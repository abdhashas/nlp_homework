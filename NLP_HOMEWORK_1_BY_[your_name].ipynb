{
 "cells": [
  {
   "cell_type": "markdown",
   "metadata": {
    "id": "46f519c8"
   },
   "source": [
    "#[Your_name]"
   ]
  },
  {
   "cell_type": "markdown",
   "metadata": {},
   "source": [
    "<h1 style=\"text-align: center;\">Text Classification<h1>"
   ]
  },
  {
   "cell_type": "markdown",
   "metadata": {
    "id": "e7efe140"
   },
   "source": [
    "Prepare libraries"
   ]
  },
  {
   "cell_type": "code",
   "execution_count": 2,
   "metadata": {
    "id": "af6058ed"
   },
   "outputs": [],
   "source": [
    "# here put every import you need e.g. import nltk\n",
    "# it's better to load what you need from the package by from [] import [] instead of import the whole package\n",
    "import pandas as pd\n",
    "from sklearn.model_selection import train_test_split\n",
    "from sklearn.feature_extraction.text import TfidfVectorizer\n",
    "from nltk.tokenize import RegexpTokenizer\n",
    "import matplotlib.pyplot as plt\n",
    "import seaborn as sns\n",
    "from keras.models import Sequential\n",
    "from keras import layers\n",
    "from keras.layers import Dense, Conv1D, AveragePooling1D, Flatten\n",
    "from keras.utils import to_categorical\n",
    "from keras.preprocessing.text import Tokenizer\n",
    "import re\n",
    "import numpy\n",
    "from cleantext import clean"
   ]
  },
  {
   "cell_type": "markdown",
   "metadata": {
    "id": "229df102"
   },
   "source": [
    "Download data"
   ]
  },
  {
   "cell_type": "code",
   "execution_count": null,
   "metadata": {
    "id": "5504e7ee"
   },
   "outputs": [],
   "source": [
    "# !wget 'https://drive.google.com/uc?export=download&id=1cMSjxa3nA706LIZDEhwMpaVRMY2IX9P0' -O 'data.zip'"
   ]
  },
  {
   "cell_type": "code",
   "execution_count": null,
   "metadata": {
    "id": "530e1bac"
   },
   "outputs": [],
   "source": [
    "# !unzip data.zip"
   ]
  },
  {
   "cell_type": "markdown",
   "metadata": {},
   "source": [
    "<h2 dir=\"rtl\">مثال عن كيفية تنظيف حلول الطلبات:</h2>"
   ]
  },
  {
   "cell_type": "markdown",
   "metadata": {
    "id": "8E7xa9XLPW8t"
   },
   "source": [
    "\n",
    "<div dir=\"rtl\">شرح ما يقوم به الكود (like code documentation)<div>"
   ]
  },
  {
   "cell_type": "code",
   "execution_count": null,
   "metadata": {
    "id": "d41a9612"
   },
   "outputs": [],
   "source": [
    "# your code here\n"
   ]
  },
  {
   "cell_type": "code",
   "execution_count": null,
   "metadata": {
    "id": "aNNrMjaaQanf"
   },
   "outputs": [],
   "source": [
    "# example test"
   ]
  },
  {
   "cell_type": "markdown",
   "metadata": {
    "id": "d9NfyVxZQXF7"
   },
   "source": [
    "<div dir=\"rtl\">ملاحظاتك في حال وجودها</div>\n",
    "<div dir=\"rtl\">يمكنك إضافة خلايا لكل طلب بقدر ما تشاء، المهم أن تحافظ على تنظيم الملف</div>"
   ]
  },
  {
   "cell_type": "markdown",
   "metadata": {
    "id": "3400638b"
   },
   "source": [
    "# Question [1]: Load the data"
   ]
  },
  {
   "cell_type": "markdown",
   "metadata": {},
   "source": [
    "## [1.1]"
   ]
  },
  {
   "cell_type": "code",
   "execution_count": 5,
   "metadata": {},
   "outputs": [],
   "source": [
    "train_file_path = 'train.csv'\n",
    "test_file_path = 'test.csv'\n",
    "validation_file_path = 'test.csv'\n",
    "train_data = pd.read_csv(train_file_path)\n",
    "test_data = pd.read_csv(test_file_path)\n",
    "validation_data = pd.read_csv(validation_file_path)\n",
    "# train_data.head(10)"
   ]
  },
  {
   "cell_type": "code",
   "execution_count": 32,
   "metadata": {},
   "outputs": [],
   "source": [
    "# test_data.head(10)"
   ]
  },
  {
   "cell_type": "code",
   "execution_count": 33,
   "metadata": {},
   "outputs": [],
   "source": [
    "# validation_data.head(10)"
   ]
  },
  {
   "cell_type": "code",
   "execution_count": 69,
   "metadata": {},
   "outputs": [],
   "source": [
    "#drop_duplicates يزيل الصفوف المتكرره\n",
    "#dropna يحذف الصفوف المكررة\n",
    "test_data=test_data.drop_duplicates().dropna()\n",
    "train_data=train_data.drop_duplicates().dropna()\n",
    "validation_data=validation_data.drop_duplicates().dropna()\n",
    "# train_data.head(10)"
   ]
  },
  {
   "cell_type": "code",
   "execution_count": 35,
   "metadata": {},
   "outputs": [],
   "source": [
    "# test_data.head(10)"
   ]
  },
  {
   "cell_type": "code",
   "execution_count": 36,
   "metadata": {},
   "outputs": [],
   "source": [
    "# validation_data.head(10)"
   ]
  },
  {
   "cell_type": "markdown",
   "metadata": {},
   "source": [
    "## [1.2]"
   ]
  },
  {
   "cell_type": "code",
   "execution_count": 6,
   "metadata": {},
   "outputs": [],
   "source": [
    "def unify_specialty(name):\n",
    "    name = re.sub(r\"[^\\w\\s]\", \" \", name)  # يزيل الرموز الترقيمية\n",
    "    name = re.sub(r\"\\s+\", \" \", name).strip()  # يزيل الفراغات المتكرره #strip يزيل الفراغات يلي بالبداية والنهاية\n",
    "    name =re.sub(\"[\\_\\-]\",\" \",name)\n",
    "    return name\n",
    "\n",
    "train_data['label']=train_data['label'].apply(unify_specialty)\n",
    "test_data['label']=test_data['label'].apply(unify_specialty)\n",
    "validation_data['label']=validation_data['label'].apply(unify_specialty)   \n"
   ]
  },
  {
   "cell_type": "code",
   "execution_count": 8,
   "metadata": {},
   "outputs": [
    {
     "data": {
      "text/plain": [
       "{'أمراض الجهاز التنفسي',\n",
       " 'أمراض الدم',\n",
       " 'أمراض الغدد الصماء',\n",
       " 'ارتفاع ضغط الدم',\n",
       " 'الاورام الخبيثة والحميدة',\n",
       " 'الجهاز التنفسي',\n",
       " 'الدم',\n",
       " 'السكري',\n",
       " 'الغدد الصماء',\n",
       " 'امراض الجهاز التنفسي',\n",
       " 'امراض الدم',\n",
       " 'امراض الغدد الصماء',\n",
       " 'جراحة العظام',\n",
       " 'جراحة عامة',\n",
       " 'مرض السكري'}"
      ]
     },
     "execution_count": 8,
     "metadata": {},
     "output_type": "execute_result"
    }
   ],
   "source": [
    "x=set(validation_data['label'])\n",
    "x"
   ]
  },
  {
   "cell_type": "code",
   "execution_count": 13,
   "metadata": {},
   "outputs": [],
   "source": [
    "Dictionary_of_diseases= {\n",
    "    'أمراض الجهاز التنفسي': 'أمراض الجهاز التنفسي',\n",
    "    'الجهاز التنفسي': 'أمراض الجهاز التنفسي',\n",
    "    'امراض الجهاز التنفسي': 'أمراض الجهاز التنفسي',\n",
    "    'أمراض الدم': 'أمراض الدم',\n",
    "    'الدم': 'أمراض الدم',\n",
    "    'امراض الدم': 'أمراض الدم',\n",
    "    'أمراض الغدد الصماء': 'أمراض الغدد الصماء',\n",
    "    'الغدد الصماء': 'أمراض الغدد الصماء',\n",
    "    'امراض الغدد الصماء': 'أمراض الغدد الصماء',\n",
    "    'مرض السكري': 'مرض السكري',\n",
    "    'السكري': 'مرض السكري',\n",
    "    'الاورام الخبيثة والحميدة':'الأمراض الخبيثة والحميدة'\n",
    "\n",
    "}\n",
    "\n",
    "def Unification_name_of_diseases(c):\n",
    "    c=c.map(Dictionary_of_diseases).fillna(c)\n",
    "    return c"
   ]
  },
  {
   "cell_type": "code",
   "execution_count": 14,
   "metadata": {},
   "outputs": [],
   "source": [
    "train_data['label']=Unification_name_of_diseases(train_data['label'])\n",
    "test_data['label']=Unification_name_of_diseases(test_data['label'])\n",
    "validation_data['label']=Unification_name_of_diseases(validation_data['label'])"
   ]
  },
  {
   "cell_type": "code",
   "execution_count": 15,
   "metadata": {},
   "outputs": [
    {
     "data": {
      "text/plain": [
       "{'أمراض الجهاز التنفسي',\n",
       " 'أمراض الدم',\n",
       " 'أمراض الغدد الصماء',\n",
       " 'ارتفاع ضغط الدم',\n",
       " 'الأمراض الخبيثة والحميدة',\n",
       " 'جراحة العظام',\n",
       " 'جراحة عامة',\n",
       " 'مرض السكري'}"
      ]
     },
     "execution_count": 15,
     "metadata": {},
     "output_type": "execute_result"
    }
   ],
   "source": [
    "x=set(validation_data['label'])\n",
    "x"
   ]
  },
  {
   "cell_type": "code",
   "execution_count": 25,
   "metadata": {},
   "outputs": [
    {
     "data": {
      "text/html": [
       "<div>\n",
       "<style scoped>\n",
       "    .dataframe tbody tr th:only-of-type {\n",
       "        vertical-align: middle;\n",
       "    }\n",
       "\n",
       "    .dataframe tbody tr th {\n",
       "        vertical-align: top;\n",
       "    }\n",
       "\n",
       "    .dataframe thead th {\n",
       "        text-align: right;\n",
       "    }\n",
       "</style>\n",
       "<table border=\"1\" class=\"dataframe\">\n",
       "  <thead>\n",
       "    <tr style=\"text-align: right;\">\n",
       "      <th></th>\n",
       "      <th>question</th>\n",
       "      <th>answer</th>\n",
       "      <th>label</th>\n",
       "    </tr>\n",
       "  </thead>\n",
       "  <tbody>\n",
       "    <tr>\n",
       "      <th>0</th>\n",
       "      <td>\\r\\nما هي مميزات و عيوب الدواء جلوكوفانس 500 5...</td>\n",
       "      <td>\\r\\n\\r\\nلكل علاج ايجابيته وسلبياته والتي تعتمد...</td>\n",
       "      <td>أمراض الدم</td>\n",
       "    </tr>\n",
       "    <tr>\n",
       "      <th>1</th>\n",
       "      <td>\\r\\nاليك نتيجة تحليل هرمونات الغدة الدرقية علم...</td>\n",
       "      <td>\\r\\n\\r\\nنعم. يجب تخفيض الجرعة، الا اذا كان سبب...</td>\n",
       "      <td>الأمراض الخبيثة والحميدة</td>\n",
       "    </tr>\n",
       "    <tr>\n",
       "      <th>2</th>\n",
       "      <td>\\r\\nحلول منزلية لأعراض ارتفاع ضغط الدم</td>\n",
       "      <td>\\r\\n\\r\\nيفضل عدم الاستغناء عن العلاج الدوائي ل...</td>\n",
       "      <td>جراحة عامة</td>\n",
       "    </tr>\n",
       "    <tr>\n",
       "      <th>3</th>\n",
       "      <td>\\r\\nعملت عملية دوالي الساقين قسطرة الليزر من ش...</td>\n",
       "      <td>\\r\\n\\r\\nراجع طبيبك من اجري الجراحه افضل من يجي...</td>\n",
       "      <td>أمراض الجهاز التنفسي</td>\n",
       "    </tr>\n",
       "    <tr>\n",
       "      <th>4</th>\n",
       "      <td>\\r\\nما حقيقة ان تمرين العضلة النعلية يخفض السك...</td>\n",
       "      <td>\\r\\n\\r\\nإذا قصدت تدليك العضلة فهذا كلام غير صح...</td>\n",
       "      <td>مرض السكري</td>\n",
       "    </tr>\n",
       "    <tr>\n",
       "      <th>...</th>\n",
       "      <td>...</td>\n",
       "      <td>...</td>\n",
       "      <td>...</td>\n",
       "    </tr>\n",
       "    <tr>\n",
       "      <th>52753</th>\n",
       "      <td>\\r\\nالسلام عليكم . يوجد لسع والم وتحجر وورم فى...</td>\n",
       "      <td>\\r\\n\\r\\nراجع جراحك ولا خوف\\r\\n0\\r\\n2023-06-05 ...</td>\n",
       "      <td>جراحة عامة</td>\n",
       "    </tr>\n",
       "    <tr>\n",
       "      <th>52754</th>\n",
       "      <td>\\r\\nهل يمكن ان يرتفع السكر الى 570 دون اعراض م...</td>\n",
       "      <td>\\r\\n\\r\\nليس بالضرورة وجود اعراض ويجب المتابعة ...</td>\n",
       "      <td>مرض السكري</td>\n",
       "    </tr>\n",
       "    <tr>\n",
       "      <th>52755</th>\n",
       "      <td>\\r\\nهل يمكن علاج سرطان الثدى المرحله الثانيه ف...</td>\n",
       "      <td>\\r\\n\\r\\nطبعاً هناك بروتوكول يجب إتباعه. ولكنه ...</td>\n",
       "      <td>الأمراض الخبيثة والحميدة</td>\n",
       "    </tr>\n",
       "    <tr>\n",
       "      <th>52756</th>\n",
       "      <td>\\r\\nاعاني من دوخه ونسبه السكر من 69 الى 80 بشك...</td>\n",
       "      <td>\\r\\n\\r\\nسلامتك ان شاء الله , قد يكون طبيعي بنق...</td>\n",
       "      <td>مرض السكري</td>\n",
       "    </tr>\n",
       "    <tr>\n",
       "      <th>52757</th>\n",
       "      <td>\\r\\nتم تركيب شريحه و٧ مساميرفي العضد. التئم ال...</td>\n",
       "      <td>\\r\\n\\r\\nهذا يعتمد على الوزن اذا كان الوزن كبير...</td>\n",
       "      <td>جراحة العظام</td>\n",
       "    </tr>\n",
       "  </tbody>\n",
       "</table>\n",
       "<p>52758 rows × 3 columns</p>\n",
       "</div>"
      ],
      "text/plain": [
       "                                                question  \\\n",
       "0      \\r\\nما هي مميزات و عيوب الدواء جلوكوفانس 500 5...   \n",
       "1      \\r\\nاليك نتيجة تحليل هرمونات الغدة الدرقية علم...   \n",
       "2                \\r\\nحلول منزلية لأعراض ارتفاع ضغط الدم    \n",
       "3      \\r\\nعملت عملية دوالي الساقين قسطرة الليزر من ش...   \n",
       "4      \\r\\nما حقيقة ان تمرين العضلة النعلية يخفض السك...   \n",
       "...                                                  ...   \n",
       "52753  \\r\\nالسلام عليكم . يوجد لسع والم وتحجر وورم فى...   \n",
       "52754  \\r\\nهل يمكن ان يرتفع السكر الى 570 دون اعراض م...   \n",
       "52755  \\r\\nهل يمكن علاج سرطان الثدى المرحله الثانيه ف...   \n",
       "52756  \\r\\nاعاني من دوخه ونسبه السكر من 69 الى 80 بشك...   \n",
       "52757  \\r\\nتم تركيب شريحه و٧ مساميرفي العضد. التئم ال...   \n",
       "\n",
       "                                                  answer  \\\n",
       "0      \\r\\n\\r\\nلكل علاج ايجابيته وسلبياته والتي تعتمد...   \n",
       "1      \\r\\n\\r\\nنعم. يجب تخفيض الجرعة، الا اذا كان سبب...   \n",
       "2      \\r\\n\\r\\nيفضل عدم الاستغناء عن العلاج الدوائي ل...   \n",
       "3      \\r\\n\\r\\nراجع طبيبك من اجري الجراحه افضل من يجي...   \n",
       "4      \\r\\n\\r\\nإذا قصدت تدليك العضلة فهذا كلام غير صح...   \n",
       "...                                                  ...   \n",
       "52753  \\r\\n\\r\\nراجع جراحك ولا خوف\\r\\n0\\r\\n2023-06-05 ...   \n",
       "52754  \\r\\n\\r\\nليس بالضرورة وجود اعراض ويجب المتابعة ...   \n",
       "52755  \\r\\n\\r\\nطبعاً هناك بروتوكول يجب إتباعه. ولكنه ...   \n",
       "52756  \\r\\n\\r\\nسلامتك ان شاء الله , قد يكون طبيعي بنق...   \n",
       "52757  \\r\\n\\r\\nهذا يعتمد على الوزن اذا كان الوزن كبير...   \n",
       "\n",
       "                          label  \n",
       "0                    أمراض الدم  \n",
       "1      الأمراض الخبيثة والحميدة  \n",
       "2                    جراحة عامة  \n",
       "3          أمراض الجهاز التنفسي  \n",
       "4                    مرض السكري  \n",
       "...                         ...  \n",
       "52753                جراحة عامة  \n",
       "52754                مرض السكري  \n",
       "52755  الأمراض الخبيثة والحميدة  \n",
       "52756                مرض السكري  \n",
       "52757              جراحة العظام  \n",
       "\n",
       "[52758 rows x 3 columns]"
      ]
     },
     "execution_count": 25,
     "metadata": {},
     "output_type": "execute_result"
    }
   ],
   "source": [
    "train_data"
   ]
  },
  {
   "cell_type": "markdown",
   "metadata": {
    "id": "2f22713d"
   },
   "source": [
    "# Question [2]: Text Analysis"
   ]
  },
  {
   "cell_type": "markdown",
   "metadata": {
    "id": "03ef90d1"
   },
   "source": [
    "## [2.1] \n"
   ]
  },
  {
   "cell_type": "code",
   "execution_count": 33,
   "metadata": {},
   "outputs": [
    {
     "data": {
      "text/html": [
       "<div>\n",
       "<style scoped>\n",
       "    .dataframe tbody tr th:only-of-type {\n",
       "        vertical-align: middle;\n",
       "    }\n",
       "\n",
       "    .dataframe tbody tr th {\n",
       "        vertical-align: top;\n",
       "    }\n",
       "\n",
       "    .dataframe thead th {\n",
       "        text-align: right;\n",
       "    }\n",
       "</style>\n",
       "<table border=\"1\" class=\"dataframe\">\n",
       "  <thead>\n",
       "    <tr style=\"text-align: right;\">\n",
       "      <th></th>\n",
       "      <th>question</th>\n",
       "      <th>answer</th>\n",
       "      <th>label</th>\n",
       "    </tr>\n",
       "  </thead>\n",
       "  <tbody>\n",
       "    <tr>\n",
       "      <th>0</th>\n",
       "      <td>\\r\\nما هي مميزات و عيوب الدواء جلوكوفانس 500 5...</td>\n",
       "      <td>\\r\\n\\r\\nلكل علاج ايجابيته وسلبياته والتي تعتمد...</td>\n",
       "      <td>أمراض الدم</td>\n",
       "    </tr>\n",
       "    <tr>\n",
       "      <th>1</th>\n",
       "      <td>\\r\\nاليك نتيجة تحليل هرمونات الغدة الدرقية علم...</td>\n",
       "      <td>\\r\\n\\r\\nنعم. يجب تخفيض الجرعة، الا اذا كان سبب...</td>\n",
       "      <td>الأمراض الخبيثة والحميدة</td>\n",
       "    </tr>\n",
       "    <tr>\n",
       "      <th>2</th>\n",
       "      <td>\\r\\nحلول منزلية لأعراض ارتفاع ضغط الدم</td>\n",
       "      <td>\\r\\n\\r\\nيفضل عدم الاستغناء عن العلاج الدوائي ل...</td>\n",
       "      <td>جراحة عامة</td>\n",
       "    </tr>\n",
       "    <tr>\n",
       "      <th>3</th>\n",
       "      <td>\\r\\nعملت عملية دوالي الساقين قسطرة الليزر من ش...</td>\n",
       "      <td>\\r\\n\\r\\nراجع طبيبك من اجري الجراحه افضل من يجي...</td>\n",
       "      <td>أمراض الجهاز التنفسي</td>\n",
       "    </tr>\n",
       "    <tr>\n",
       "      <th>4</th>\n",
       "      <td>\\r\\nما حقيقة ان تمرين العضلة النعلية يخفض السك...</td>\n",
       "      <td>\\r\\n\\r\\nإذا قصدت تدليك العضلة فهذا كلام غير صح...</td>\n",
       "      <td>مرض السكري</td>\n",
       "    </tr>\n",
       "    <tr>\n",
       "      <th>...</th>\n",
       "      <td>...</td>\n",
       "      <td>...</td>\n",
       "      <td>...</td>\n",
       "    </tr>\n",
       "    <tr>\n",
       "      <th>52753</th>\n",
       "      <td>\\r\\nالسلام عليكم . يوجد لسع والم وتحجر وورم فى...</td>\n",
       "      <td>\\r\\n\\r\\nراجع جراحك ولا خوف\\r\\n0\\r\\n2023-06-05 ...</td>\n",
       "      <td>جراحة عامة</td>\n",
       "    </tr>\n",
       "    <tr>\n",
       "      <th>52754</th>\n",
       "      <td>\\r\\nهل يمكن ان يرتفع السكر الى 570 دون اعراض م...</td>\n",
       "      <td>\\r\\n\\r\\nليس بالضرورة وجود اعراض ويجب المتابعة ...</td>\n",
       "      <td>مرض السكري</td>\n",
       "    </tr>\n",
       "    <tr>\n",
       "      <th>52755</th>\n",
       "      <td>\\r\\nهل يمكن علاج سرطان الثدى المرحله الثانيه ف...</td>\n",
       "      <td>\\r\\n\\r\\nطبعاً هناك بروتوكول يجب إتباعه. ولكنه ...</td>\n",
       "      <td>الأمراض الخبيثة والحميدة</td>\n",
       "    </tr>\n",
       "    <tr>\n",
       "      <th>52756</th>\n",
       "      <td>\\r\\nاعاني من دوخه ونسبه السكر من 69 الى 80 بشك...</td>\n",
       "      <td>\\r\\n\\r\\nسلامتك ان شاء الله , قد يكون طبيعي بنق...</td>\n",
       "      <td>مرض السكري</td>\n",
       "    </tr>\n",
       "    <tr>\n",
       "      <th>52757</th>\n",
       "      <td>\\r\\nتم تركيب شريحه و٧ مساميرفي العضد. التئم ال...</td>\n",
       "      <td>\\r\\n\\r\\nهذا يعتمد على الوزن اذا كان الوزن كبير...</td>\n",
       "      <td>جراحة العظام</td>\n",
       "    </tr>\n",
       "  </tbody>\n",
       "</table>\n",
       "<p>52758 rows × 3 columns</p>\n",
       "</div>"
      ],
      "text/plain": [
       "                                                question  \\\n",
       "0      \\r\\nما هي مميزات و عيوب الدواء جلوكوفانس 500 5...   \n",
       "1      \\r\\nاليك نتيجة تحليل هرمونات الغدة الدرقية علم...   \n",
       "2                \\r\\nحلول منزلية لأعراض ارتفاع ضغط الدم    \n",
       "3      \\r\\nعملت عملية دوالي الساقين قسطرة الليزر من ش...   \n",
       "4      \\r\\nما حقيقة ان تمرين العضلة النعلية يخفض السك...   \n",
       "...                                                  ...   \n",
       "52753  \\r\\nالسلام عليكم . يوجد لسع والم وتحجر وورم فى...   \n",
       "52754  \\r\\nهل يمكن ان يرتفع السكر الى 570 دون اعراض م...   \n",
       "52755  \\r\\nهل يمكن علاج سرطان الثدى المرحله الثانيه ف...   \n",
       "52756  \\r\\nاعاني من دوخه ونسبه السكر من 69 الى 80 بشك...   \n",
       "52757  \\r\\nتم تركيب شريحه و٧ مساميرفي العضد. التئم ال...   \n",
       "\n",
       "                                                  answer  \\\n",
       "0      \\r\\n\\r\\nلكل علاج ايجابيته وسلبياته والتي تعتمد...   \n",
       "1      \\r\\n\\r\\nنعم. يجب تخفيض الجرعة، الا اذا كان سبب...   \n",
       "2      \\r\\n\\r\\nيفضل عدم الاستغناء عن العلاج الدوائي ل...   \n",
       "3      \\r\\n\\r\\nراجع طبيبك من اجري الجراحه افضل من يجي...   \n",
       "4      \\r\\n\\r\\nإذا قصدت تدليك العضلة فهذا كلام غير صح...   \n",
       "...                                                  ...   \n",
       "52753  \\r\\n\\r\\nراجع جراحك ولا خوف\\r\\n0\\r\\n2023-06-05 ...   \n",
       "52754  \\r\\n\\r\\nليس بالضرورة وجود اعراض ويجب المتابعة ...   \n",
       "52755  \\r\\n\\r\\nطبعاً هناك بروتوكول يجب إتباعه. ولكنه ...   \n",
       "52756  \\r\\n\\r\\nسلامتك ان شاء الله , قد يكون طبيعي بنق...   \n",
       "52757  \\r\\n\\r\\nهذا يعتمد على الوزن اذا كان الوزن كبير...   \n",
       "\n",
       "                          label  \n",
       "0                    أمراض الدم  \n",
       "1      الأمراض الخبيثة والحميدة  \n",
       "2                    جراحة عامة  \n",
       "3          أمراض الجهاز التنفسي  \n",
       "4                    مرض السكري  \n",
       "...                         ...  \n",
       "52753                جراحة عامة  \n",
       "52754                مرض السكري  \n",
       "52755  الأمراض الخبيثة والحميدة  \n",
       "52756                مرض السكري  \n",
       "52757              جراحة العظام  \n",
       "\n",
       "[52758 rows x 3 columns]"
      ]
     },
     "execution_count": 33,
     "metadata": {},
     "output_type": "execute_result"
    }
   ],
   "source": [
    "train_data"
   ]
  },
  {
   "cell_type": "code",
   "execution_count": 63,
   "metadata": {
    "id": "c1b8c64b"
   },
   "outputs": [
    {
     "name": "stdout",
     "output_type": "stream",
     "text": [
      "عدد الداتا الخاصة بأمراض الدم: 2153\n",
      "عدد الداتا الخاصة بأمراض الجهاز التنفسي: 6002\n",
      "عدد الداتا الخاصة بأمراض الغدد الصماء: 9417\n",
      "عدد الداتا الخاصة بأمراض ارتفاع ضغط الدم: 4190\n",
      "عدد الداتا الخاصة بالأمراض الخبيثة والحميدة: 10711\n",
      "عدد الداتا الخاصة بجراحةالعظام: 2641\n",
      "عدد الداتا الخاصة بالجراحة العامة: 10548\n",
      "عدد الداتا الخاصة بمرض السكري: 7096\n"
     ]
    }
   ],
   "source": [
    "# Train data\n",
    "\n",
    "# عدد الأجوبة الخاصة بأمراض الدم :\n",
    "answers_len_in_blood_diseases = len(train_data[train_data['label']=='أمراض الدم']['answer'].tolist())\n",
    "# print(answers_len_in_blood_diseases)\n",
    "\n",
    "# عدد الأسئلة الخاصة بأمراض الدم :\n",
    "questions_len_in_blood_diseases = len(train_data[train_data['label']=='أمراض الدم']['question'].tolist())\n",
    "# print(questions_len_in_blood_diseases)\n",
    "\n",
    "\n",
    "# العدد الكلي :\n",
    "total_blood_diseases_len = len(train_data[train_data['label']=='أمراض الدم'])\n",
    "print('عدد الداتا الخاصة بأمراض الدم:',total_blood_diseases_len)\n",
    "\n",
    "# عدد الداتا في أمراض الجهاز التنفسي :\n",
    "total_blood_diseases_len = len(train_data[train_data['label']=='أمراض الجهاز التنفسي'])\n",
    "print('عدد الداتا الخاصة بأمراض الجهاز التنفسي:',total_blood_diseases_len)\n",
    "\n",
    "# غدد الداتا في أمراض الغدد الصماء :\n",
    "total_blood_diseases_len = len(train_data[train_data['label']=='أمراض الغدد الصماء'])\n",
    "print('عدد الداتا الخاصة بأمراض الغدد الصماء:',total_blood_diseases_len)\n",
    "\n",
    "# عدد  الداتا ارتفاع ضغط الدم :\n",
    "total_blood_diseases_len = len(train_data[train_data['label']=='ارتفاع ضغط الدم'])\n",
    "print('عدد الداتا الخاصة بأمراض ارتفاع ضغط الدم:',total_blood_diseases_len)\n",
    "\n",
    "# عدد الداتا في الأمراض الخبيثة والحميدة :\n",
    "total_blood_diseases_len = len(train_data[train_data['label']=='الأمراض الخبيثة والحميدة'])\n",
    "print('عدد الداتا الخاصة بالأمراض الخبيثة والحميدة:',total_blood_diseases_len)\n",
    "\n",
    "# عدد الداتا في جراحة العظام\n",
    "total_blood_diseases_len = len(train_data[train_data['label']=='جراحة العظام'])\n",
    "print('عدد الداتا الخاصة بجراحةالعظام:',total_blood_diseases_len)\n",
    "\n",
    "# عدد الداتا في الجراحة العامة\n",
    "total_blood_diseases_len = len(train_data[train_data['label']=='جراحة عامة'])\n",
    "print('عدد الداتا الخاصة بالجراحة العامة:',total_blood_diseases_len)\n",
    "\n",
    "# عدد الداتا في مرض السكري\n",
    "total_blood_diseases_len = len(train_data[train_data['label']=='مرض السكري'])\n",
    "print('عدد الداتا الخاصة بمرض السكري:',total_blood_diseases_len)\n"
   ]
  },
  {
   "cell_type": "code",
   "execution_count": 66,
   "metadata": {},
   "outputs": [
    {
     "name": "stdout",
     "output_type": "stream",
     "text": [
      "                  Specialization  Number of Texts\n",
      "0                 Blood Diseases             2153\n",
      "1    Respiratory System Diseases             6002\n",
      "2             Endocrine Diseases             9417\n",
      "3                   Hypertension             4190\n",
      "4  Malignant and Benign Diseases            10711\n",
      "5             Orthopedic Surgery             2641\n",
      "6                General Surgery            10548\n",
      "7                       Diabetes             7096\n"
     ]
    },
    {
     "data": {
      "image/png": "[encoded data removed]",
      "text/plain": [
       "<Figure size 800x800 with 1 Axes>"
      ]
     },
     "metadata": {},
     "output_type": "display_data"
    }
   ],
   "source": [
    "# Drawing pie chart:\n",
    "# ملاحظة بالعربي طلع الخط مفشكل ف تمت الكتابة بالانكليزي\n",
    "\n",
    "\n",
    "\n",
    "# data = {\n",
    "#     'الاختصاص': ['أمراض الدم', 'أمراض الجهاز التنفسي', 'أمراض الغدد الصماء','أمراض ارتفاع ضغط الدم','الأمراض الخبيثة والحميدة','جراحةالعظام','الجراحة العامة','مرض السكري'],\n",
    "#     'عدد النصوص': [2153, 6002, 9417,4190,10711,2641,10548,7096]\n",
    "# }\n",
    "\n",
    "# data\n",
    "\n",
    "\n",
    "# df = pd.DataFrame(data)\n",
    "\n",
    "# print(df)\n",
    "\n",
    "# plt.figure(figsize=(8, 8))\n",
    "# plt.pie(df['عدد النصوص'], labels=df['الاختصاص'], autopct='%1.1f%%', startangle=140)\n",
    "# plt.title('توزيع النصوص حسب الاختصاص')\n",
    "# plt.show()\n",
    "\n",
    "import pandas as pd\n",
    "import matplotlib.pyplot as plt\n",
    "\n",
    "data = {\n",
    "    'Specialization': ['Blood Diseases', 'Respiratory System Diseases', 'Endocrine Diseases', 'Hypertension', 'Malignant and Benign Diseases', 'Orthopedic Surgery', 'General Surgery', 'Diabetes'],\n",
    "    'Number of Texts': [2153, 6002, 9417, 4190, 10711, 2641, 10548, 7096]\n",
    "}\n",
    "\n",
    "df = pd.DataFrame(data)\n",
    "\n",
    "print(df)\n",
    "\n",
    "plt.figure(figsize=(8, 8))\n",
    "plt.pie(df['Number of Texts'], labels=df['Specialization'], autopct='%1.1f%%', startangle=140)\n",
    "plt.title('Distribution of Texts by Specialization')\n",
    "plt.show()\n"
   ]
  },
  {
   "cell_type": "markdown",
   "metadata": {
    "id": "24164796"
   },
   "source": [
    "## [2.2] "
   ]
  },
  {
   "cell_type": "code",
   "execution_count": null,
   "metadata": {
    "id": "SexYXq1-P0Y0"
   },
   "outputs": [],
   "source": []
  },
  {
   "cell_type": "markdown",
   "metadata": {
    "id": "KFerFDFqPwPI"
   },
   "source": [
    "## [2.3] "
   ]
  },
  {
   "cell_type": "code",
   "execution_count": null,
   "metadata": {
    "id": "zU65GmMbP2Sm"
   },
   "outputs": [],
   "source": []
  },
  {
   "cell_type": "markdown",
   "metadata": {
    "id": "-4LEgCtvPwaQ"
   },
   "source": [
    "## [2.4] "
   ]
  },
  {
   "cell_type": "code",
   "execution_count": null,
   "metadata": {
    "id": "d81d9f99"
   },
   "outputs": [],
   "source": []
  },
  {
   "cell_type": "markdown",
   "metadata": {
    "id": "ZgzDVRqCQ72Q"
   },
   "source": [
    "## [2.5] "
   ]
  },
  {
   "cell_type": "code",
   "execution_count": null,
   "metadata": {
    "id": "3WFp0g3DQ72V"
   },
   "outputs": [],
   "source": []
  },
  {
   "cell_type": "markdown",
   "metadata": {
    "id": "oFmJ2HWqRNZa"
   },
   "source": [
    "# Question [3]: Text Cleaning and Normalization"
   ]
  },
  {
   "cell_type": "markdown",
   "metadata": {
    "id": "cwaCNfS9RNZc"
   },
   "source": [
    "## [3.1] \n"
   ]
  },
  {
   "cell_type": "code",
   "execution_count": null,
   "metadata": {
    "id": "LhllhojDRNZd"
   },
   "outputs": [],
   "source": []
  },
  {
   "cell_type": "markdown",
   "metadata": {
    "id": "MbJeF_CxRNZd"
   },
   "source": [
    "## [3.2] "
   ]
  },
  {
   "cell_type": "code",
   "execution_count": null,
   "metadata": {
    "id": "M_bO-W2DRNZe"
   },
   "outputs": [],
   "source": []
  },
  {
   "cell_type": "markdown",
   "metadata": {
    "id": "GY-HhD2YRNZe"
   },
   "source": [
    "## [3.3] "
   ]
  },
  {
   "cell_type": "code",
   "execution_count": null,
   "metadata": {
    "id": "l-5TSuHWRNZe"
   },
   "outputs": [],
   "source": []
  },
  {
   "cell_type": "markdown",
   "metadata": {
    "id": "KV9D86kbRNZe"
   },
   "source": [
    "## [3.4] "
   ]
  },
  {
   "cell_type": "code",
   "execution_count": null,
   "metadata": {},
   "outputs": [],
   "source": []
  },
  {
   "cell_type": "markdown",
   "metadata": {},
   "source": [
    "## [3.5]"
   ]
  },
  {
   "cell_type": "markdown",
   "metadata": {
    "id": "3fM_FPldSCxp"
   },
   "source": [
    "### [3.5.1] "
   ]
  },
  {
   "cell_type": "code",
   "execution_count": null,
   "metadata": {
    "id": "ohGu5R14RNZe"
   },
   "outputs": [],
   "source": []
  },
  {
   "cell_type": "markdown",
   "metadata": {
    "id": "N2z1KmQXSAFs"
   },
   "source": [
    "### [3.5.2] "
   ]
  },
  {
   "cell_type": "code",
   "execution_count": null,
   "metadata": {
    "id": "fmOXIMWoSAFt"
   },
   "outputs": [],
   "source": []
  },
  {
   "cell_type": "markdown",
   "metadata": {
    "id": "fCBHc2y6SAL5"
   },
   "source": [
    "### [3.5.3] "
   ]
  },
  {
   "cell_type": "code",
   "execution_count": null,
   "metadata": {
    "id": "QJX_PtSzSAL6"
   },
   "outputs": [],
   "source": []
  },
  {
   "cell_type": "markdown",
   "metadata": {},
   "source": [
    "### [3.5.4]"
   ]
  },
  {
   "cell_type": "code",
   "execution_count": null,
   "metadata": {},
   "outputs": [],
   "source": []
  },
  {
   "cell_type": "markdown",
   "metadata": {
    "id": "P1aLjPbzRNZe"
   },
   "source": [
    "## [3.6] "
   ]
  },
  {
   "cell_type": "markdown",
   "metadata": {
    "id": "dbqN7BceSRhS"
   },
   "source": [
    "### [3.6.1] "
   ]
  },
  {
   "cell_type": "code",
   "execution_count": null,
   "metadata": {
    "id": "caLTQ8EtSRhT"
   },
   "outputs": [],
   "source": []
  },
  {
   "cell_type": "markdown",
   "metadata": {
    "id": "rad8wPeSSRhU"
   },
   "source": [
    "### [3.6.2] "
   ]
  },
  {
   "cell_type": "code",
   "execution_count": null,
   "metadata": {
    "id": "UZuYtSHaSRhU"
   },
   "outputs": [],
   "source": []
  },
  {
   "cell_type": "markdown",
   "metadata": {
    "id": "N4WDktTgRNZf"
   },
   "source": [
    "## [3.7] "
   ]
  },
  {
   "cell_type": "code",
   "execution_count": null,
   "metadata": {
    "id": "B6icsYsFRNZf"
   },
   "outputs": [],
   "source": []
  },
  {
   "cell_type": "markdown",
   "metadata": {
    "id": "wbGPWNtoR4p-"
   },
   "source": [
    "## [3.8] "
   ]
  },
  {
   "cell_type": "code",
   "execution_count": null,
   "metadata": {
    "id": "fAiyofe3R4qA"
   },
   "outputs": [],
   "source": []
  },
  {
   "cell_type": "markdown",
   "metadata": {
    "id": "V-rCzzoMR41T"
   },
   "source": [
    "## [3.9] "
   ]
  },
  {
   "cell_type": "markdown",
   "metadata": {
    "id": "iXF2L4Z-Sd3N"
   },
   "source": [
    "### [3.9.1] "
   ]
  },
  {
   "cell_type": "code",
   "execution_count": null,
   "metadata": {
    "id": "wk-Z3Gw4Sd3O"
   },
   "outputs": [],
   "source": []
  },
  {
   "cell_type": "markdown",
   "metadata": {
    "id": "ij5gdJA4Sd3O"
   },
   "source": [
    "### [3.9.2] "
   ]
  },
  {
   "cell_type": "code",
   "execution_count": null,
   "metadata": {
    "id": "bDLOsd4tSd3O"
   },
   "outputs": [],
   "source": []
  },
  {
   "cell_type": "markdown",
   "metadata": {
    "id": "H6k8JnJDSd3P"
   },
   "source": [
    "### [3.9.3] "
   ]
  },
  {
   "cell_type": "code",
   "execution_count": null,
   "metadata": {
    "id": "JhSOCYLmSd3P"
   },
   "outputs": [],
   "source": []
  },
  {
   "cell_type": "markdown",
   "metadata": {
    "id": "1TmDb343Sls9"
   },
   "source": [
    "### [3.9.4] "
   ]
  },
  {
   "cell_type": "code",
   "execution_count": null,
   "metadata": {
    "id": "wWJ-Z11_Sls-"
   },
   "outputs": [],
   "source": []
  },
  {
   "cell_type": "markdown",
   "metadata": {
    "id": "0V5LD9EWVgY7"
   },
   "source": [
    "## [3.10] "
   ]
  },
  {
   "cell_type": "code",
   "execution_count": null,
   "metadata": {
    "id": "AkVzG3AWVgZA"
   },
   "outputs": [],
   "source": []
  },
  {
   "cell_type": "markdown",
   "metadata": {
    "id": "exdhuH6GtLez"
   },
   "source": [
    "## Extra [3.11]"
   ]
  },
  {
   "cell_type": "code",
   "execution_count": null,
   "metadata": {
    "id": "_UOzIn6-tKlJ"
   },
   "outputs": [],
   "source": []
  },
  {
   "cell_type": "markdown",
   "metadata": {
    "id": "Jp-C0ZwrS8AY"
   },
   "source": [
    "# Question [4]: Prepare Training Data"
   ]
  },
  {
   "cell_type": "markdown",
   "metadata": {
    "id": "pwtVy8DES8AZ"
   },
   "source": [
    "## [4.1] \n"
   ]
  },
  {
   "cell_type": "code",
   "execution_count": null,
   "metadata": {},
   "outputs": [],
   "source": []
  },
  {
   "cell_type": "markdown",
   "metadata": {
    "id": "npObP2JLUBgw"
   },
   "source": [
    "## [4.2] "
   ]
  },
  {
   "cell_type": "code",
   "execution_count": null,
   "metadata": {
    "id": "V_KxmQdgUBg5"
   },
   "outputs": [],
   "source": []
  },
  {
   "cell_type": "markdown",
   "metadata": {
    "id": "pTIrTECWUBg5"
   },
   "source": [
    "## [4.3] "
   ]
  },
  {
   "cell_type": "code",
   "execution_count": null,
   "metadata": {
    "id": "OqmCKe5lUBg6"
   },
   "outputs": [],
   "source": []
  },
  {
   "cell_type": "markdown",
   "metadata": {
    "id": "6v0njm5qUBg6"
   },
   "source": [
    "## [4.4] "
   ]
  },
  {
   "cell_type": "code",
   "execution_count": null,
   "metadata": {
    "id": "DltX5hcnUHT1"
   },
   "outputs": [],
   "source": []
  },
  {
   "cell_type": "markdown",
   "metadata": {},
   "source": [
    "# Question [5]: Baseline"
   ]
  },
  {
   "cell_type": "markdown",
   "metadata": {},
   "source": [
    "The Comparison Dictionary example"
   ]
  },
  {
   "cell_type": "code",
   "execution_count": null,
   "metadata": {},
   "outputs": [],
   "source": [
    "comparison_table = {}\n",
    "\n",
    "comparison_table['question_step_number'] = []\n",
    "comparison_table['model_name'] = []\n",
    "comparison_table['features'] = []\n",
    "comparison_table['model_parameters'] = []\n",
    "comparison_table['preprocessing_methods'] = []\n",
    "comparison_table['accuracy'] = []\n",
    "comparison_table['balance_accuracy'] = []"
   ]
  },
  {
   "cell_type": "markdown",
   "metadata": {},
   "source": [
    "Filling the dictionary example"
   ]
  },
  {
   "cell_type": "code",
   "execution_count": null,
   "metadata": {},
   "outputs": [],
   "source": [
    "comparison_table['question_step_number'].append(\"3.5\")\n",
    "comparison_table['model_name'].append('logistic_regression')\n",
    "comparison_table['features'].append('bag of words')\n",
    "comparison_table['model_parameters'].append('default')\n",
    "comparison_table['preprocessing_methods'].append(\"remove links\")\n",
    "comparison_table['accuracy'].append(accuracy)\n",
    "comparison_table['balance_accuracy'].append(balance_accuracy_value)"
   ]
  },
  {
   "cell_type": "markdown",
   "metadata": {},
   "source": [
    "## [5.1]"
   ]
  },
  {
   "cell_type": "code",
   "execution_count": null,
   "metadata": {},
   "outputs": [],
   "source": []
  },
  {
   "cell_type": "markdown",
   "metadata": {},
   "source": [
    "## [5.2]"
   ]
  },
  {
   "cell_type": "code",
   "execution_count": null,
   "metadata": {},
   "outputs": [],
   "source": []
  },
  {
   "cell_type": "markdown",
   "metadata": {},
   "source": [
    "## [5.3]"
   ]
  },
  {
   "cell_type": "code",
   "execution_count": null,
   "metadata": {},
   "outputs": [],
   "source": []
  },
  {
   "cell_type": "markdown",
   "metadata": {},
   "source": [
    "## [5.4]"
   ]
  },
  {
   "cell_type": "code",
   "execution_count": null,
   "metadata": {},
   "outputs": [],
   "source": []
  },
  {
   "cell_type": "markdown",
   "metadata": {},
   "source": [
    "## [5.5]"
   ]
  },
  {
   "cell_type": "code",
   "execution_count": null,
   "metadata": {},
   "outputs": [],
   "source": []
  },
  {
   "cell_type": "markdown",
   "metadata": {},
   "source": [
    "## [5.6]"
   ]
  },
  {
   "cell_type": "code",
   "execution_count": null,
   "metadata": {},
   "outputs": [],
   "source": []
  },
  {
   "cell_type": "markdown",
   "metadata": {},
   "source": [
    "# Question [6]: Semantic Representation"
   ]
  },
  {
   "cell_type": "markdown",
   "metadata": {},
   "source": [
    "## [6.1]"
   ]
  },
  {
   "cell_type": "code",
   "execution_count": null,
   "metadata": {},
   "outputs": [],
   "source": []
  },
  {
   "cell_type": "markdown",
   "metadata": {},
   "source": [
    "## [6.2]"
   ]
  },
  {
   "cell_type": "code",
   "execution_count": null,
   "metadata": {},
   "outputs": [],
   "source": []
  },
  {
   "cell_type": "markdown",
   "metadata": {},
   "source": [
    "## [6.3]"
   ]
  },
  {
   "cell_type": "code",
   "execution_count": null,
   "metadata": {},
   "outputs": [],
   "source": []
  },
  {
   "cell_type": "markdown",
   "metadata": {},
   "source": [
    "## [6.4]"
   ]
  },
  {
   "cell_type": "code",
   "execution_count": null,
   "metadata": {},
   "outputs": [],
   "source": []
  },
  {
   "cell_type": "markdown",
   "metadata": {},
   "source": [
    "## [6.5]"
   ]
  },
  {
   "cell_type": "code",
   "execution_count": null,
   "metadata": {},
   "outputs": [],
   "source": []
  },
  {
   "cell_type": "markdown",
   "metadata": {},
   "source": [
    "# Question [7]: Deep Neural Network"
   ]
  },
  {
   "cell_type": "markdown",
   "metadata": {},
   "source": [
    "## [7.1]"
   ]
  },
  {
   "cell_type": "markdown",
   "metadata": {},
   "source": [
    "### [7.1.1]"
   ]
  },
  {
   "cell_type": "code",
   "execution_count": null,
   "metadata": {},
   "outputs": [],
   "source": []
  },
  {
   "cell_type": "markdown",
   "metadata": {},
   "source": [
    "### [7.1.2]"
   ]
  },
  {
   "cell_type": "code",
   "execution_count": null,
   "metadata": {},
   "outputs": [],
   "source": []
  },
  {
   "cell_type": "markdown",
   "metadata": {},
   "source": [
    "## [7.2]"
   ]
  },
  {
   "cell_type": "markdown",
   "metadata": {},
   "source": [
    "### [7.2.1]"
   ]
  },
  {
   "cell_type": "code",
   "execution_count": null,
   "metadata": {},
   "outputs": [],
   "source": []
  },
  {
   "cell_type": "markdown",
   "metadata": {},
   "source": [
    "### [7.2.2]"
   ]
  },
  {
   "cell_type": "code",
   "execution_count": null,
   "metadata": {},
   "outputs": [],
   "source": []
  },
  {
   "cell_type": "markdown",
   "metadata": {},
   "source": [
    "### [7.2.3]"
   ]
  },
  {
   "cell_type": "code",
   "execution_count": null,
   "metadata": {},
   "outputs": [],
   "source": []
  },
  {
   "cell_type": "markdown",
   "metadata": {},
   "source": [
    "### [7.2.4]"
   ]
  },
  {
   "cell_type": "code",
   "execution_count": null,
   "metadata": {},
   "outputs": [],
   "source": []
  },
  {
   "cell_type": "markdown",
   "metadata": {},
   "source": [
    "## [7.3]"
   ]
  },
  {
   "cell_type": "code",
   "execution_count": null,
   "metadata": {},
   "outputs": [],
   "source": []
  },
  {
   "cell_type": "markdown",
   "metadata": {},
   "source": [
    "## Extra [7.4]"
   ]
  },
  {
   "cell_type": "code",
   "execution_count": null,
   "metadata": {},
   "outputs": [],
   "source": []
  },
  {
   "cell_type": "markdown",
   "metadata": {},
   "source": [
    "# Final Results"
   ]
  },
  {
   "cell_type": "code",
   "execution_count": null,
   "metadata": {},
   "outputs": [],
   "source": [
    "df = pd.DataFrame(comparison_table)\n",
    "df"
   ]
  },
  {
   "cell_type": "code",
   "execution_count": null,
   "metadata": {},
   "outputs": [],
   "source": [
    "df.to_csv(\"[your_name].csv\", index=False)"
   ]
  }
 ],
 "metadata": {
  "colab": {
   "collapsed_sections": [
    "KFerFDFqPwPI",
    "-4LEgCtvPwaQ",
    "ZgzDVRqCQ72Q",
    "qQlGbCI3Q77R",
    "hIwnQVuas5hE",
    "7orTRN5vs9vp",
    "cwaCNfS9RNZc",
    "MbJeF_CxRNZd",
    "GY-HhD2YRNZe",
    "KV9D86kbRNZe",
    "3fM_FPldSCxp",
    "N2z1KmQXSAFs",
    "fCBHc2y6SAL5",
    "P1aLjPbzRNZe",
    "dbqN7BceSRhS",
    "rad8wPeSSRhU",
    "FbIUIkezSRhU",
    "N4WDktTgRNZf",
    "wbGPWNtoR4p-",
    "V-rCzzoMR41T",
    "iXF2L4Z-Sd3N",
    "ij5gdJA4Sd3O",
    "H6k8JnJDSd3P",
    "1TmDb343Sls9",
    "0V5LD9EWVgY7",
    "vc96CuQStFA9",
    "exdhuH6GtLez",
    "pwtVy8DES8AZ",
    "npObP2JLUBgw",
    "pTIrTECWUBg5",
    "6v0njm5qUBg6"
   ],
   "provenance": []
  },
  "kernelspec": {
   "display_name": "Python 3",
   "language": "python",
   "name": "python3"
  },
  "language_info": {
   "codemirror_mode": {
    "name": "ipython",
    "version": 3
   },
   "file_extension": ".py",
   "mimetype": "text/x-python",
   "name": "python",
   "nbconvert_exporter": "python",
   "pygments_lexer": "ipython3",
   "version": "3.11.5"
  }
 },
 "nbformat": 4,
 "nbformat_minor": 5
}
