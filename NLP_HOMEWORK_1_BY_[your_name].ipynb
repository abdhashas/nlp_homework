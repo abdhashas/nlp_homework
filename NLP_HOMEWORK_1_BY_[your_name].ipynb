{
 "cells": [
  {
   "cell_type": "markdown",
   "id": "8c38a02a9f45259b",
   "metadata": {
    "id": "46f519c8"
   },
   "source": [
    "#[Your_name]"
   ]
  },
  {
   "cell_type": "markdown",
   "id": "a17096249196e35c",
   "metadata": {},
   "source": [
    "<h1 style=\"text-align: center;\">Text Classification<h1>"
   ]
  },
  {
   "cell_type": "markdown",
   "id": "67a8f525e7cb9573",
   "metadata": {
    "id": "e7efe140"
   },
   "source": [
    "Prepare libraries"
   ]
  },
  {
   "cell_type": "code",
   "execution_count": null,
   "id": "33a20126e2ce399e",
   "metadata": {
    "ExecuteTime": {
     "end_time": "2023-11-28T18:00:40.781684600Z",
     "start_time": "2023-11-28T18:00:27.949446900Z"
    },
    "id": "af6058ed"
   },
   "outputs": [],
   "source": [
    "# here put every import you need e.g. import nltk\n",
    "# it's better to load what you need from the package by from [] import [] instead of import the whole package\n",
    "import pandas as pd\n",
    "from sklearn.model_selection import train_test_split\n",
    "from sklearn.feature_extraction.text import TfidfVectorizer\n",
    "from nltk.tokenize import RegexpTokenizer\n",
    "import matplotlib.pyplot as plt\n",
    "import seaborn as sns\n",
    "from keras.models import Sequential\n",
    "from keras import layers\n",
    "from keras.layers import Dense, Conv1D, AveragePooling1D, Flatten\n",
    "from keras.utils import to_categorical\n",
    "from keras.preprocessing.text import Tokenizer\n",
    "import re\n",
    "import numpy\n",
    "from cleantext import clean\n",
    "from arabicstopwords.stopwords_lexicon import stopwords_lexicon\n",
    "import nltk\n",
    "from wordcloud import WordCloud\n",
    "from arabic_reshaper import arabic_reshaper\n",
    "from bidi.algorithm import get_display\n",
    "from nltk import bigrams, trigrams\n",
    "from collections import Counter\n",
    "from snowballstemmer import stemmer\n",
    "from tashaphyne.stemming import ArabicLightStemmer\n",
    "from farasa.segmenter import FarasaSegmenter\n",
    "from farasa.stemmer import FarasaStemmer\n",
    "from matplotlib.font_manager import FontProperties"
   ]
  },
  {
   "cell_type": "markdown",
   "id": "35983a59a0a8dc81",
   "metadata": {},
   "source": [
    "download "
   ]
  },
  {
   "cell_type": "markdown",
   "id": "1a355ad265838eb2",
   "metadata": {
    "id": "229df102"
   },
   "source": [
    "Download data"
   ]
  },
  {
   "cell_type": "code",
   "execution_count": null,
   "id": "cf91803826981217",
   "metadata": {
    "id": "5504e7ee"
   },
   "outputs": [],
   "source": [
    "# !wget 'https://drive.google.com/uc?export=download&id=1cMSjxa3nA706LIZDEhwMpaVRMY2IX9P0' -O 'data.zip'"
   ]
  },
  {
   "cell_type": "code",
   "execution_count": null,
   "id": "53e4574cd5ad3978",
   "metadata": {
    "collapsed": false
   },
   "outputs": [],
   "source": [
    "# !pip install Arabic-Stopwords\n",
    "# 2.2 nltk.download('punkt') # open vpn\n",
    "# 2.3 !pip install arabic-reshaper\n",
    "# 2.4 nltk.download('stopwords')\n",
    "# 3.8 !pip install snowballstemmer\n",
    "# 3.8 !pip install Tashaphyne\n",
    "# 3.8 !pip install -U farasapy"
   ]
  },
  {
   "cell_type": "code",
   "execution_count": null,
   "id": "f5f4105090de8887",
   "metadata": {
    "id": "530e1bac"
   },
   "outputs": [],
   "source": [
    "# !unzip data.zip"
   ]
  },
  {
   "cell_type": "markdown",
   "id": "687ae8495df53493",
   "metadata": {},
   "source": [
    "<h2 dir=\"rtl\">مثال عن كيفية تنظيف حلول الطلبات:</h2>"
   ]
  },
  {
   "cell_type": "markdown",
   "id": "8c6f6c78922eb16d",
   "metadata": {
    "id": "8E7xa9XLPW8t"
   },
   "source": [
    "\n",
    "<div dir=\"rtl\">شرح ما يقوم به الكود (like code documentation)<div>"
   ]
  },
  {
   "cell_type": "code",
   "execution_count": null,
   "id": "3a9387562e3e7fcf",
   "metadata": {
    "id": "d41a9612"
   },
   "outputs": [],
   "source": [
    "# your code here\n"
   ]
  },
  {
   "cell_type": "code",
   "execution_count": null,
   "id": "87f6b7e34a75e652",
   "metadata": {
    "id": "aNNrMjaaQanf"
   },
   "outputs": [],
   "source": [
    "# example test"
   ]
  },
  {
   "cell_type": "markdown",
   "id": "6ca50c08527ef0ca",
   "metadata": {
    "id": "d9NfyVxZQXF7"
   },
   "source": [
    "<div dir=\"rtl\">ملاحظاتك في حال وجودها</div>\n",
    "<div dir=\"rtl\">يمكنك إضافة خلايا لكل طلب بقدر ما تشاء، المهم أن تحافظ على تنظيم الملف</div>"
   ]
  },
  {
   "cell_type": "markdown",
   "id": "89b0f65e02a313cd",
   "metadata": {
    "id": "3400638b"
   },
   "source": [
    "# Question [1]: Load the data"
   ]
  },
  {
   "cell_type": "markdown",
   "id": "d12bfd6042d97cae",
   "metadata": {},
   "source": [
    "## [1.1]"
   ]
  },
  {
   "cell_type": "code",
   "execution_count": null,
   "id": "f6397927bb088417",
   "metadata": {
    "ExecuteTime": {
     "end_time": "2023-11-28T17:47:44.500683400Z",
     "start_time": "2023-11-28T17:47:43.519931600Z"
    }
   },
   "outputs": [],
   "source": [
    "train_file_path = 'train.csv'\n",
    "test_file_path = 'test.csv'\n",
    "validation_file_path = 'val.csv'\n",
    "train_data = pd.read_csv(train_file_path)\n",
    "test_data = pd.read_csv(test_file_path)\n",
    "validation_data = pd.read_csv(validation_file_path)\n",
    "\n",
    "print(\"number of data in train data : \",len(train_data))\n",
    "print(\"number of data in test data : \",len(test_data))\n",
    "print(\"number of data in validation data : \",len(validation_data))"
   ]
  },
  {
   "cell_type": "code",
   "execution_count": null,
   "id": "bd4ed1d4d439b324",
   "metadata": {
    "ExecuteTime": {
     "end_time": "2023-11-28T17:47:47.493979600Z",
     "start_time": "2023-11-28T17:47:47.408587600Z"
    }
   },
   "outputs": [],
   "source": [
    "train_data.head(10)"
   ]
  },
  {
   "cell_type": "code",
   "execution_count": null,
   "id": "c285a9642f16e9ed",
   "metadata": {
    "ExecuteTime": {
     "end_time": "2023-11-28T17:47:53.408385500Z",
     "start_time": "2023-11-28T17:47:53.337280500Z"
    }
   },
   "outputs": [],
   "source": [
    "test_data.head(10)"
   ]
  },
  {
   "cell_type": "code",
   "execution_count": null,
   "id": "647198775377a576",
   "metadata": {
    "ExecuteTime": {
     "end_time": "2023-11-28T17:47:54.293475800Z",
     "start_time": "2023-11-28T17:47:54.111683600Z"
    }
   },
   "outputs": [],
   "source": [
    "validation_data.head(10)"
   ]
  },
  {
   "cell_type": "code",
   "execution_count": null,
   "id": "f902f028f4f22982",
   "metadata": {
    "ExecuteTime": {
     "end_time": "2023-11-28T17:47:55.207559400Z",
     "start_time": "2023-11-28T17:47:54.981391300Z"
    }
   },
   "outputs": [],
   "source": [
    "#drop_duplicates يزيل الصفوف المتكرره\n",
    "#dropna يحذف الصفوف المكررة\n",
    "test_data=test_data.drop_duplicates().dropna()\n",
    "train_data=train_data.drop_duplicates().dropna()\n",
    "validation_data=validation_data.drop_duplicates().dropna()\n",
    "print(\"number of data in train data after cleaning : \",len(train_data))\n",
    "print(\"number of data in test data after cleaning : \",len(test_data))\n",
    "print(\"number of data in validation data after cleaning : \",len(validation_data))"
   ]
  },
  {
   "cell_type": "code",
   "execution_count": null,
   "id": "300d578799370a2e",
   "metadata": {
    "ExecuteTime": {
     "end_time": "2023-11-28T17:47:56.205456800Z",
     "start_time": "2023-11-28T17:47:56.151617600Z"
    }
   },
   "outputs": [],
   "source": [
    "train_data.head(10)"
   ]
  },
  {
   "cell_type": "code",
   "execution_count": null,
   "id": "bb28317493f6f459",
   "metadata": {
    "ExecuteTime": {
     "end_time": "2023-11-28T17:47:57.140122300Z",
     "start_time": "2023-11-28T17:47:56.924769600Z"
    }
   },
   "outputs": [],
   "source": [
    "test_data.head(10)"
   ]
  },
  {
   "cell_type": "code",
   "execution_count": null,
   "id": "b88695c3a0a3c37e",
   "metadata": {
    "ExecuteTime": {
     "end_time": "2023-11-28T17:47:57.993922400Z",
     "start_time": "2023-11-28T17:47:57.693952400Z"
    }
   },
   "outputs": [],
   "source": [
    "validation_data.head(10)"
   ]
  },
  {
   "cell_type": "markdown",
   "id": "fe89dfbbc315bb24",
   "metadata": {},
   "source": [
    "## [1.2]"
   ]
  },
  {
   "cell_type": "code",
   "execution_count": null,
   "id": "128745bced93a650",
   "metadata": {
    "ExecuteTime": {
     "end_time": "2023-11-28T17:48:00.089441800Z",
     "start_time": "2023-11-28T17:47:58.657780700Z"
    }
   },
   "outputs": [],
   "source": [
    "def unify_specialty(name):\n",
    "    name = re.sub(r\"[^\\w\\s]\", \" \", name)  # يزيل الرموز الترقيمية\n",
    "    name = re.sub(r\"\\s+\", \" \", name).strip()  # يزيل الفراغات المتكرره #strip يزيل الفراغات يلي بالبداية والنهاية\n",
    "    name =re.sub(\"[\\_\\-]\",\" \",name)\n",
    "    return name\n",
    "\n",
    "train_data['label']=train_data['label'].apply(unify_specialty)\n",
    "test_data['label']=test_data['label'].apply(unify_specialty)\n",
    "validation_data['label']=validation_data['label'].apply(unify_specialty)   \n"
   ]
  },
  {
   "cell_type": "code",
   "execution_count": null,
   "id": "1b08e09e599e7d08",
   "metadata": {
    "ExecuteTime": {
     "end_time": "2023-11-28T17:48:01.035454700Z",
     "start_time": "2023-11-28T17:47:58.909457900Z"
    }
   },
   "outputs": [],
   "source": [
    "x=set(train_data['label'])\n",
    "x"
   ]
  },
  {
   "cell_type": "code",
   "execution_count": null,
   "id": "c3686ec8976508a8",
   "metadata": {
    "ExecuteTime": {
     "end_time": "2023-11-28T17:48:02.013238200Z",
     "start_time": "2023-11-28T17:47:59.463844100Z"
    }
   },
   "outputs": [],
   "source": [
    "Dictionary_of_diseases= {\n",
    "    'أمراض الجهاز التنفسي': 'أمراض الجهاز التنفسي',\n",
    "    'الجهاز التنفسي': 'أمراض الجهاز التنفسي',\n",
    "    'امراض الجهاز التنفسي': 'أمراض الجهاز التنفسي',\n",
    "    'أمراض الدم': 'أمراض الدم',\n",
    "    'الدم': 'أمراض الدم',\n",
    "    'امراض الدم': 'أمراض الدم',\n",
    "    'أمراض الغدد الصماء': 'أمراض الغدد الصماء',\n",
    "    'الغدد الصماء': 'أمراض الغدد الصماء',\n",
    "    'امراض الغدد الصماء': 'أمراض الغدد الصماء',\n",
    "    'مرض السكري': 'مرض السكري',\n",
    "    'السكري': 'مرض السكري',\n",
    "    'الاورام الخبيثة والحميدة':'الأورام الخبيثة والحميدة'\n",
    "\n",
    "}\n",
    "\n",
    "def Unification_name_of_diseases(c):\n",
    "    c=c.map(Dictionary_of_diseases).fillna(c)\n",
    "    return c"
   ]
  },
  {
   "cell_type": "code",
   "execution_count": null,
   "id": "4fd4c2952b21be5d",
   "metadata": {
    "ExecuteTime": {
     "end_time": "2023-11-28T17:48:03.134507400Z",
     "start_time": "2023-11-28T17:47:59.494860300Z"
    }
   },
   "outputs": [],
   "source": [
    "train_data['label']=Unification_name_of_diseases(train_data['label'])\n",
    "test_data['label']=Unification_name_of_diseases(test_data['label'])\n",
    "validation_data['label']=Unification_name_of_diseases(validation_data['label'])"
   ]
  },
  {
   "cell_type": "code",
   "execution_count": null,
   "id": "f86de893df69c13",
   "metadata": {
    "ExecuteTime": {
     "end_time": "2023-11-28T17:48:03.192630300Z",
     "start_time": "2023-11-28T17:47:59.950281200Z"
    }
   },
   "outputs": [],
   "source": [
    "x=set(train_data['label'])\n",
    "x"
   ]
  },
  {
   "cell_type": "code",
   "execution_count": null,
   "id": "f2de100ffb45a290",
   "metadata": {
    "ExecuteTime": {
     "end_time": "2023-11-28T17:48:03.684914300Z",
     "start_time": "2023-11-28T17:48:00.006191700Z"
    }
   },
   "outputs": [],
   "source": []
  },
  {
   "cell_type": "markdown",
   "id": "4a8d8362bec9237d",
   "metadata": {
    "id": "2f22713d"
   },
   "source": [
    "# Question [2]: Text Analysis"
   ]
  },
  {
   "cell_type": "markdown",
   "id": "d3abc352213c467a",
   "metadata": {
    "id": "03ef90d1"
   },
   "source": [
    "## [2.1] \n"
   ]
  },
  {
   "cell_type": "code",
   "execution_count": null,
   "id": "347cfd18fdd3ae19",
   "metadata": {
    "ExecuteTime": {
     "end_time": "2023-11-28T17:53:26.541719300Z",
     "start_time": "2023-11-28T17:53:26.526459900Z"
    }
   },
   "outputs": [],
   "source": [
    "train_data"
   ]
  },
  {
   "cell_type": "code",
   "execution_count": null,
   "id": "cac8463d6c28b1d3",
   "metadata": {
    "ExecuteTime": {
     "end_time": "2023-11-28T17:48:03.842803200Z",
     "start_time": "2023-11-28T17:48:01.020927500Z"
    },
    "id": "c1b8c64b"
   },
   "outputs": [],
   "source": [
    "# Train data\n",
    "\n",
    "# عدد الأجوبة الخاصة بأمراض الدم :\n",
    "answers_len_in_blood_diseases = len(train_data[train_data['label']=='أمراض الدم']['answer'].tolist())\n",
    "# print(answers_len_in_blood_diseases)\n",
    "\n",
    "# عدد الأسئلة الخاصة بأمراض الدم :\n",
    "questions_len_in_blood_diseases = len(train_data[train_data['label']=='أمراض الدم']['question'].tolist())\n",
    "# print(questions_len_in_blood_diseases)\n",
    "\n",
    "\n",
    "# عدد الداتا الخاصة بأمراض الدم :\n",
    "total_blood_diseases_len = len(train_data[train_data['label']=='أمراض الدم'])\n",
    "print('عدد الداتا الخاصة بأمراض الدم:',total_blood_diseases_len)\n",
    "\n",
    "# عدد الداتا في أمراض الجهاز التنفسي :\n",
    "total_blood_diseases_len = len(train_data[train_data['label']=='أمراض الجهاز التنفسي'])\n",
    "print('عدد الداتا الخاصة بأمراض الجهاز التنفسي:',total_blood_diseases_len)\n",
    "\n",
    "# غدد الداتا في أمراض الغدد الصماء :\n",
    "total_blood_diseases_len = len(train_data[train_data['label']=='أمراض الغدد الصماء'])\n",
    "print('عدد الداتا الخاصة بأمراض الغدد الصماء:',total_blood_diseases_len)\n",
    "\n",
    "# عدد  الداتا ارتفاع ضغط الدم :\n",
    "total_blood_diseases_len = len(train_data[train_data['label']=='ارتفاع ضغط الدم'])\n",
    "print('عدد الداتا الخاصة بأمراض ارتفاع ضغط الدم:',total_blood_diseases_len)\n",
    "\n",
    "# عدد الداتا في الأورام الخبيثة والحميدة :\n",
    "total_blood_diseases_len = len(train_data[train_data['label']=='الأورام الخبيثة والحميدة'])\n",
    "print('عدد الداتا الخاصة بالأورام الخبيثة والحميدة:',total_blood_diseases_len)\n",
    "\n",
    "# عدد الداتا في جراحة العظام\n",
    "total_blood_diseases_len = len(train_data[train_data['label']=='جراحة العظام'])\n",
    "print('عدد الداتا الخاصة بجراحةالعظام:',total_blood_diseases_len)\n",
    "\n",
    "# عدد الداتا في الجراحة العامة\n",
    "total_blood_diseases_len = len(train_data[train_data['label']=='جراحة عامة'])\n",
    "print('عدد الداتا الخاصة بالجراحة العامة:',total_blood_diseases_len)\n",
    "\n",
    "# عدد الداتا في مرض السكري\n",
    "total_blood_diseases_len = len(train_data[train_data['label']=='مرض السكري'])\n",
    "print('عدد الداتا الخاصة بمرض السكري:',total_blood_diseases_len)\n"
   ]
  },
  {
   "cell_type": "code",
   "execution_count": null,
   "id": "10e8fc4ed5f610f6",
   "metadata": {
    "ExecuteTime": {
     "end_time": "2023-11-28T17:48:03.906972Z",
     "start_time": "2023-11-28T17:48:01.470011400Z"
    }
   },
   "outputs": [],
   "source": [
    "# Drawing pie chart:\n",
    "# ملاحظة بالعربي طلع الخط مفشكل ف تمت الكتابة بالانكليزي\n",
    "\n",
    "\n",
    "\n",
    "data = {\n",
    "    'الاختصاص': ['أمراض الدم', 'أمراض الجهاز التنفسي', 'أمراض الغدد الصماء','أمراض ارتفاع ضغط الدم','الأمراض الخبيثة والحميدة','جراحةالعظام','الجراحة العامة','مرض السكري'],\n",
    "    'عدد النصوص': [2153, 6002, 9417,4190,10711,2641,10548,7096]\n",
    "}\n",
    "\n",
    "data\n",
    "\n",
    "\n",
    "df = pd.DataFrame(data)\n",
    "\n",
    "# print(df)\n",
    "arabic_font = FontProperties(fname='font/NotoNaskhArabic-VariableFont_wght.ttf') \n",
    "\n",
    "df['الاختصاص'] = [get_display(arabic_reshaper.reshape(label)) for label in df['الاختصاص']]\n",
    "plt.figure(figsize=(8, 8))\n",
    "plt.pie(df['عدد النصوص'], labels=df['الاختصاص'], autopct='%1.1f%%', startangle=140)\n",
    "plt.title(get_display(arabic_reshaper.reshape('توزيع النصوص حسب الاختصاص')), fontproperties=arabic_font)\n",
    "plt.show()\n",
    "\n",
    "# import pandas as pd\n",
    "# import matplotlib.pyplot as plt\n",
    "\n",
    "# data = {\n",
    "#     'Specialization': ['Blood Diseases', 'Respiratory System Diseases', 'Endocrine Diseases', 'Hypertension', 'Malignant and Benign Diseases', 'Orthopedic Surgery', 'General Surgery', 'Diabetes'],\n",
    "#     'Number of Texts': [1398, 3676, 5752, 2537, 6449, 2211, 6307, 4268]\n",
    "# }\n",
    "\n",
    "# df = pd.DataFrame(data)\n",
    "\n",
    "# print(df)\n",
    "\n",
    "# plt.figure(figsize=(8, 8))\n",
    "# plt.pie(df['Number of Texts'], labels=df['Specialization'], autopct='%1.1f%%', startangle=140)\n",
    "# plt.title('Distribution of Texts by Specialization')\n",
    "# plt.show()\n"
   ]
  },
  {
   "cell_type": "markdown",
   "id": "c7b6917b7ad847bb",
   "metadata": {
    "id": "24164796"
   },
   "source": [
    "## [2.2] "
   ]
  },
  {
   "cell_type": "code",
   "execution_count": null,
   "id": "af188fd4f58322bb",
   "metadata": {
    "ExecuteTime": {
     "end_time": "2023-11-28T17:48:03.906972Z",
     "start_time": "2023-11-28T17:48:01.695343300Z"
    }
   },
   "outputs": [],
   "source": [
    "def delete_repeated_letter(text):\n",
    "    # cleaned_text = re.sub(r'(.)\\1{2,}', r'\\1', text)\n",
    "    cleaned_text = re.sub(r'([^\\w\\s\\.])\\1+', r'\\1', text)\n",
    "    cleaned_text = re.sub(r'(\\.\\s*)\\1+$', r'\\1', cleaned_text)\n",
    "    return cleaned_text\n",
    "\n",
    "def handle_connected_words(tokenized):\n",
    "    # Handle connected words with '-'\n",
    "    result_tokens = []\n",
    "    for token in tokenized:\n",
    "        # Split connected words with '-'\n",
    "        result_tokens.extend(token.split('-'))\n",
    "    return result_tokens\n",
    "\n",
    "\n",
    "def filter_text(list):\n",
    "    list_of_phrases =[]\n",
    "    all_tokens = []\n",
    "    for sentence in list:\n",
    "        tokenizer = RegexpTokenizer(r'\\b\\d+\\b|\\b[^\\d\\W_]{2,}\\b|[^\\d\\W_]+(?:-[^\\d\\W_]+)?|\\S')\n",
    "        tokenized = tokenizer.tokenize(delete_repeated_letter(sentence))\n",
    "        tokenized = handle_connected_words(tokenized)\n",
    "\n",
    "        # Remove '-' and '/' and one-letter words from each token\n",
    "        # cleaned_tokens = [token for token in tokenized if len(token) > 1 and token not in ['-', '/']]\n",
    "        # cleaned_tokens = [token if len(token) > 1 or token == 'و' else '' for token in tokenized if token not in ['-', '/']]\n",
    "\n",
    "        cleaned_tokens = [token if (token.isalpha() and len(token) > 1) or token == 'و' else '' for token in tokenized if token not in ['-', '/']]\n",
    "\n",
    "        combined_phrase = ' '.join(cleaned_tokens)\n",
    "        list_of_phrases.append(combined_phrase)\n",
    "\n",
    "    for phrase in list_of_phrases:\n",
    "        tokens = nltk.word_tokenize(phrase)\n",
    "        all_tokens.append(tokens)\n",
    "        \n",
    "    return all_tokens\n",
    "\n"
   ]
  },
  {
   "cell_type": "code",
   "execution_count": null,
   "id": "8841e5fae4cd12eb",
   "metadata": {
    "ExecuteTime": {
     "end_time": "2023-11-28T17:48:11.547801700Z",
     "start_time": "2023-11-28T17:48:02.015744800Z"
    },
    "id": "SexYXq1-P0Y0"
   },
   "outputs": [],
   "source": [
    "train_data_answers_list = train_data['answer'].values\n",
    "answers = filter_text(train_data_answers_list)\n",
    "flattened_answers = [item for sublist in answers for item in sublist]\n",
    "print(len(flattened_answers))\n"
   ]
  },
  {
   "cell_type": "code",
   "execution_count": null,
   "id": "462dd7146ffac428",
   "metadata": {
    "ExecuteTime": {
     "end_time": "2023-11-28T17:48:17.557564200Z",
     "start_time": "2023-11-28T17:48:11.659377700Z"
    }
   },
   "outputs": [],
   "source": [
    "train_data_questions_list = train_data['question'].values\n",
    "questions = filter_text(train_data_questions_list)\n",
    "flattened_quesions = [item for sublist in questions for item in sublist]\n",
    "print(len(flattened_quesions))"
   ]
  },
  {
   "cell_type": "code",
   "execution_count": null,
   "id": "a05d77a67ff63ee6",
   "metadata": {
    "ExecuteTime": {
     "end_time": "2023-11-28T17:48:17.560083300Z",
     "start_time": "2023-11-28T17:48:17.544042400Z"
    }
   },
   "outputs": [],
   "source": [
    "# حساب عدد الكلمات الكلي :\n",
    "total_words_len = len(flattened_quesions) + len(flattened_answers)\n",
    "print(total_words_len)"
   ]
  },
  {
   "cell_type": "code",
   "execution_count": null,
   "id": "c896baa27e7c92a5",
   "metadata": {
    "ExecuteTime": {
     "end_time": "2023-11-28T17:48:17.874055600Z",
     "start_time": "2023-11-28T17:48:17.552562600Z"
    }
   },
   "outputs": [],
   "source": [
    "# حساب عدد الكلمات الفريدة :\n",
    "total_unique_words=len(set(flattened_quesions+flattened_answers))\n",
    "print(\"عدد الكلمات الفريدة:\", total_unique_words)"
   ]
  },
  {
   "cell_type": "markdown",
   "id": "c25bc0c76cd00150",
   "metadata": {
    "id": "KFerFDFqPwPI"
   },
   "source": [
    "## [2.3] "
   ]
  },
  {
   "cell_type": "code",
   "execution_count": null,
   "id": "ec6d7dbea8e44a8b",
   "metadata": {
    "ExecuteTime": {
     "end_time": "2023-11-28T17:49:35.324646100Z",
     "start_time": "2023-11-28T17:48:17.867536700Z"
    }
   },
   "outputs": [],
   "source": [
    "WCD=dict()\n",
    "train_data_answers_list = flattened_answers\n",
    "train_data_questions_list = flattened_quesions\n",
    "train_data_list=train_data_answers_list+train_data_questions_list\n",
    "answers_text = ' '.join(train_data_list)\n",
    "reshaped_text = arabic_reshaper.reshape(answers_text)\n",
    "arabic_text = get_display(reshaped_text)\n",
    "wordcloud = WordCloud(font_path='font/NotoNaskhArabic-VariableFont_wght.ttf', background_color='white').generate(arabic_text)\n",
    "WCD=wordcloud.words_\n",
    "plt.figure(figsize=(50, 50))\n",
    "plt.imshow(wordcloud, interpolation='bilinear')\n",
    "plt.axis(\"off\")\n",
    "plt.show()"
   ]
  },
  {
   "cell_type": "markdown",
   "id": "420df21aa7c46632",
   "metadata": {
    "id": "-4LEgCtvPwaQ"
   },
   "source": [
    "## [2.4] "
   ]
  },
  {
   "cell_type": "code",
   "execution_count": null,
   "id": "27677a3f844deab0",
   "metadata": {
    "ExecuteTime": {
     "end_time": "2023-11-28T17:49:35.421653500Z",
     "start_time": "2023-11-28T17:49:35.383741100Z"
    },
    "id": "d81d9f99"
   },
   "outputs": [],
   "source": [
    "def tokenized_text(text):\n",
    "    # allWords = nltk.tokenize.word_tokenize(text)\n",
    "\n",
    "    allWordDist = nltk.FreqDist(w for w in text)\n",
    "    stopwords = nltk.corpus.stopwords.words('english')\n",
    "    allWordExceptStopDist = nltk.FreqDist(w.lower() for w in text if w not in stopwords)  \n",
    "    mostCommon= allWordDist.most_common(15)\n",
    "    print('أكثر 15 كلمة مكررة:',mostCommon)\n",
    "    leastCommon = allWordDist.most_common()[:-11:-1]\n",
    "    print('أقل 10 كلمة مكررة:', leastCommon)\n",
    "    bigram_freq = nltk.FreqDist(bigrams(text))\n",
    "    most_common_bigrams = bigram_freq.most_common(10)\n",
    "    print('أكثر 10 ثنائيات مكررة في النص:',most_common_bigrams)\n",
    "    trigram_freq = nltk.FreqDist(trigrams(text))\n",
    "    most_common_trigrams = trigram_freq.most_common(10)\n",
    "    print('أكثر 10 ثلاثيات كلمات مكررة في النص:',most_common_trigrams)\n",
    "    collocations_bigram = nltk.collocations.BigramCollocationFinder.from_words(text)\n",
    "    most_common_collocations_bigram = collocations_bigram.nbest(nltk.collocations.BigramAssocMeasures.likelihood_ratio, 10)\n",
    "    print('أكثر 10 ثنائيات كلمات مهمة في النص:',most_common_collocations_bigram)\n",
    "    collocations_trigram = nltk.collocations.TrigramCollocationFinder.from_words(text)\n",
    "    most_common_collocations_trigram = collocations_trigram.nbest(nltk.collocations.TrigramAssocMeasures.likelihood_ratio, 10)\n",
    "    print('أكثر 10 ثلاثيات كلمات مهمة في النص:',most_common_collocations_trigram)  \n",
    "    print('========================================================================================================================================================================================')  \n",
    "\n",
    "\n",
    "    \n",
    "\n",
    "\n",
    "# tokenized_text('tony botros is tony the tony best best best tony botros in in in the whole world tony botros')\n",
    "# tokenized_text(['طوني','طوني','بطرس','هو','طوني','هو','بطرس','ال','الأفضل'])\n",
    "# tokenized_text(['لدي', 'جرح', 'فوق', 'حاجبي', 'و', 'تمت', 'عملية', 'الخياطة', 'ثم', 'نزع', 'الغرزات', 'بشكل', 'عادي', 'لكن', 'مر', 'اسبوع', 'على', 'ذلك', 'و', 'مازال', 'هناك', 'الم', 'و', 'تطلب', 'شديد', 'في', 'المنطقة', 'لدرجة', 'اني', 'لا', 'استطيع', 'رفع', 'حاجبي', 'ابدا', 'إضافة', 'لوجود', 'انتفاخ', 'هل', 'هدا', 'طبيعي', 'ام', 'يمكن', 'ان', 'يكون', 'خلل', 'و', 'إن', 'كان', 'كذلك', 'ما', 'هو'])\n",
    "tokenized_text(answers[0])"
   ]
  },
  {
   "cell_type": "code",
   "execution_count": null,
   "id": "8bfa567330bbb43b",
   "metadata": {
    "ExecuteTime": {
     "end_time": "2023-11-28T17:49:35.421653500Z",
     "start_time": "2023-11-28T17:49:35.392541500Z"
    }
   },
   "outputs": [],
   "source": [
    "#الشرح"
   ]
  },
  {
   "cell_type": "code",
   "execution_count": null,
   "id": "2e3f5f8258e84500",
   "metadata": {
    "ExecuteTime": {
     "end_time": "2023-11-28T17:49:35.450007300Z",
     "start_time": "2023-11-28T17:49:35.403464800Z"
    }
   },
   "outputs": [],
   "source": [
    "# هاد التابع لمرق كل اختصاص وجيب منو الكلمات كلا متل مو مطلوب ب 2.4\n",
    "def all_tokinized_text(specialized):\n",
    "    filtered_questions = filter_text(train_data[train_data['label']==specialized]['question'].values)\n",
    "    filtered_answers = filter_text(train_data[train_data['label']==specialized]['answer'].values)\n",
    "    list = filtered_questions + filtered_answers\n",
    "    flattened_list = [item for sublist in list for item in sublist]\n",
    "    # flattened_list\n",
    "    tokenized_text(flattened_list)\n",
    "    "
   ]
  },
  {
   "cell_type": "code",
   "execution_count": null,
   "id": "d616630beb444368",
   "metadata": {
    "ExecuteTime": {
     "end_time": "2023-11-28T17:49:41.895942500Z",
     "start_time": "2023-11-28T17:49:35.411488100Z"
    }
   },
   "outputs": [],
   "source": [
    "all_tokinized_text('أمراض الدم')"
   ]
  },
  {
   "cell_type": "code",
   "execution_count": null,
   "id": "2c5ef7cc8cf9dd59",
   "metadata": {
    "ExecuteTime": {
     "end_time": "2023-11-28T17:49:56.166864500Z",
     "start_time": "2023-11-28T17:49:41.924108500Z"
    }
   },
   "outputs": [],
   "source": [
    "all_tokinized_text('أمراض الجهاز التنفسي')"
   ]
  },
  {
   "cell_type": "code",
   "execution_count": null,
   "id": "e861c909e1a23012",
   "metadata": {
    "ExecuteTime": {
     "end_time": "2023-11-28T17:50:15.625987600Z",
     "start_time": "2023-11-28T17:49:56.158856Z"
    }
   },
   "outputs": [],
   "source": [
    "all_tokinized_text('أمراض الغدد الصماء')"
   ]
  },
  {
   "cell_type": "code",
   "execution_count": null,
   "id": "8a54f923b682dbb5",
   "metadata": {
    "ExecuteTime": {
     "end_time": "2023-11-28T17:50:25.137230300Z",
     "start_time": "2023-11-28T17:50:15.626987300Z"
    }
   },
   "outputs": [],
   "source": [
    "all_tokinized_text('ارتفاع ضغط الدم')"
   ]
  },
  {
   "cell_type": "code",
   "execution_count": null,
   "id": "4dc049d6662db815",
   "metadata": {
    "ExecuteTime": {
     "end_time": "2023-11-28T17:50:47.456008500Z",
     "start_time": "2023-11-28T17:50:25.136228500Z"
    }
   },
   "outputs": [],
   "source": [
    "all_tokinized_text('الأورام الخبيثة والحميدة')"
   ]
  },
  {
   "cell_type": "code",
   "execution_count": null,
   "id": "a450181732413cb3",
   "metadata": {
    "ExecuteTime": {
     "end_time": "2023-11-28T17:50:54.892514800Z",
     "start_time": "2023-11-28T17:50:47.456008500Z"
    }
   },
   "outputs": [],
   "source": [
    "all_tokinized_text('جراحة العظام')"
   ]
  },
  {
   "cell_type": "code",
   "execution_count": null,
   "id": "4b5d01e09d1a8bff",
   "metadata": {
    "ExecuteTime": {
     "end_time": "2023-11-28T17:51:15.432650500Z",
     "start_time": "2023-11-28T17:50:54.885006900Z"
    }
   },
   "outputs": [],
   "source": [
    "all_tokinized_text('جراحة عامة')"
   ]
  },
  {
   "cell_type": "code",
   "execution_count": null,
   "id": "5c2d128fa7313066",
   "metadata": {
    "ExecuteTime": {
     "end_time": "2023-11-28T17:51:29.530449900Z",
     "start_time": "2023-11-28T17:51:15.410544600Z"
    }
   },
   "outputs": [],
   "source": [
    "all_tokinized_text('مرض السكري')"
   ]
  },
  {
   "cell_type": "code",
   "execution_count": null,
   "id": "c5a9bfb6e9d84e64",
   "metadata": {
    "ExecuteTime": {
     "end_time": "2023-11-28T17:53:16.009343700Z",
     "start_time": "2023-11-28T17:51:29.526942900Z"
    }
   },
   "outputs": [],
   "source": [
    "# على كل الداتا تبع الترين:\n",
    "filtered_questions = filter_text(train_data['question'].values)\n",
    "filtered_answers = filter_text(train_data['answer'].values)\n",
    "list = filtered_questions + filtered_answers\n",
    "flattened_list = [item for sublist in list for item in sublist]\n",
    "# flattened_list\n",
    "tokenized_text(flattened_list)\n"
   ]
  },
  {
   "cell_type": "code",
   "execution_count": null,
   "id": "a47127af0446c39b",
   "metadata": {
    "ExecuteTime": {
     "end_time": "2023-11-28T17:53:16.015367500Z",
     "start_time": "2023-11-28T17:53:16.007830600Z"
    }
   },
   "outputs": [],
   "source": [
    "#الشرح"
   ]
  },
  {
   "cell_type": "markdown",
   "id": "b9c557f09745b419",
   "metadata": {
    "id": "ZgzDVRqCQ72Q"
   },
   "source": [
    "## [2.5] "
   ]
  },
  {
   "cell_type": "code",
   "execution_count": null,
   "id": "9c774bae3acab54c",
   "metadata": {
    "ExecuteTime": {
     "end_time": "2023-11-28T17:53:23.740569800Z",
     "start_time": "2023-11-28T17:53:16.012342800Z"
    }
   },
   "outputs": [],
   "source": [
    "train_data['all_word']=train_data['answer']+train_data['question']\n",
    "train_data_list=train_data['all_word'].values\n",
    "all_word = filter_text(train_data_list)"
   ]
  },
  {
   "cell_type": "code",
   "execution_count": null,
   "id": "50d09f794f36668b",
   "metadata": {
    "ExecuteTime": {
     "end_time": "2023-11-28T17:53:23.849212500Z",
     "start_time": "2023-11-28T17:53:23.741569700Z"
    }
   },
   "outputs": [],
   "source": [
    "flattened_all_word = [item for sublist in all_word for item in sublist]\n",
    "train_data['length_of_sentinse']=train_data['all_word'].apply(len)\n",
    "# train_data['length_of_sentinse']"
   ]
  },
  {
   "cell_type": "code",
   "execution_count": null,
   "id": "f9f823f086995cf3",
   "metadata": {
    "ExecuteTime": {
     "end_time": "2023-11-28T17:53:24.518763200Z",
     "start_time": "2023-11-28T17:53:23.851207500Z"
    }
   },
   "outputs": [],
   "source": [
    "w=[]\n",
    "for i in all_word:\n",
    "    w.append(set(i))\n",
    "train_data['unique_words']=w\n",
    "train_data['number_of_unique_words']=train_data['unique_words'].apply(len)"
   ]
  },
  {
   "cell_type": "code",
   "execution_count": null,
   "id": "c743371b1d15adb6",
   "metadata": {
    "ExecuteTime": {
     "end_time": "2023-11-28T17:53:24.524456700Z",
     "start_time": "2023-11-28T17:53:24.521451100Z"
    },
    "id": "3WFp0g3DQ72V"
   },
   "outputs": [],
   "source": [
    "def histogram(length_of_sentinse,number_of_unique_words):\n",
    "    plt.figure(figsize=(10, 6))\n",
    "    plt.subplot(2, 1, 1)\n",
    "    # plt.bar(number_of_unique_words, length_of_sentinse, color='blue', alpha=0.7)\n",
    "    plt.hist(length_of_sentinse, label='length_of_sentinse',edgecolor='black', linewidth=1.2,bins=30, alpha=0.5)\n",
    "    plt.hist(number_of_unique_words, label='number_of_unique_words',edgecolor='black', linewidth=1.2,bins=30, alpha=0.5)\n",
    "    plt.title('histogram')\n",
    "    plt.xlabel('length_of_sentinse')\n",
    "    plt.ylabel('number_of_unique_words')\n",
    "    # plt.tight_layout()\n",
    "    plt.legend()\n",
    "    plt.show()"
   ]
  },
  {
   "cell_type": "code",
   "execution_count": null,
   "id": "bf894bf5f98822c4",
   "metadata": {
    "ExecuteTime": {
     "end_time": "2023-11-28T17:53:24.747773900Z",
     "start_time": "2023-11-28T17:53:24.525460100Z"
    }
   },
   "outputs": [],
   "source": [
    "# لكل النص\n",
    "histogram(train_data['length_of_sentinse'],train_data['number_of_unique_words'])"
   ]
  },
  {
   "cell_type": "code",
   "execution_count": null,
   "id": "674223e30b687e8a",
   "metadata": {
    "ExecuteTime": {
     "end_time": "2023-11-28T17:53:24.966337700Z",
     "start_time": "2023-11-28T17:53:24.746176900Z"
    }
   },
   "outputs": [],
   "source": [
    "# أمراض الجهاز التنفسي\n",
    "histogram(train_data[train_data['label']=='أمراض الجهاز التنفسي']['length_of_sentinse'],train_data[train_data['label']=='أمراض الجهاز التنفسي']['number_of_unique_words'])"
   ]
  },
  {
   "cell_type": "code",
   "execution_count": null,
   "id": "3c448c8ccbd1775a",
   "metadata": {
    "ExecuteTime": {
     "end_time": "2023-11-28T17:53:25.179734200Z",
     "start_time": "2023-11-28T17:53:24.963334300Z"
    }
   },
   "outputs": [],
   "source": [
    "# أمراض الدم\n",
    "histogram(train_data[train_data['label']=='أمراض الدم']['length_of_sentinse'],train_data[train_data['label']=='أمراض الدم']['number_of_unique_words'])"
   ]
  },
  {
   "cell_type": "code",
   "execution_count": null,
   "id": "7fe7cc50508fb9b2",
   "metadata": {
    "ExecuteTime": {
     "end_time": "2023-11-28T17:53:25.398841600Z",
     "start_time": "2023-11-28T17:53:25.178733400Z"
    }
   },
   "outputs": [],
   "source": [
    "# أمراض الغدد الصماء\n",
    "histogram(train_data[train_data['label']=='أمراض الغدد الصماء']['length_of_sentinse'],train_data[train_data['label']=='أمراض الغدد الصماء']['number_of_unique_words'])"
   ]
  },
  {
   "cell_type": "code",
   "execution_count": null,
   "id": "9f90261cce6f277d",
   "metadata": {
    "ExecuteTime": {
     "end_time": "2023-11-28T17:53:25.625906200Z",
     "start_time": "2023-11-28T17:53:25.398841600Z"
    }
   },
   "outputs": [],
   "source": [
    "# ارتفاع ضغط الدم\n",
    "histogram(train_data[train_data['label']=='ارتفاع ضغط الدم']['length_of_sentinse'],train_data[train_data['label']=='ارتفاع ضغط الدم']['number_of_unique_words'])"
   ]
  },
  {
   "cell_type": "code",
   "execution_count": null,
   "id": "30d9687be40b9584",
   "metadata": {
    "ExecuteTime": {
     "end_time": "2023-11-28T17:53:25.854342800Z",
     "start_time": "2023-11-28T17:53:25.629420Z"
    }
   },
   "outputs": [],
   "source": [
    "# الأورام الخبيثة والحميدة\n",
    "histogram(train_data[train_data['label']=='الأورام الخبيثة والحميدة']['length_of_sentinse'],train_data[train_data['label']=='الأورام الخبيثة والحميدة']['number_of_unique_words'])"
   ]
  },
  {
   "cell_type": "code",
   "execution_count": null,
   "id": "faa22e8858b487d7",
   "metadata": {
    "ExecuteTime": {
     "end_time": "2023-11-28T17:53:26.064133700Z",
     "start_time": "2023-11-28T17:53:25.853339600Z"
    }
   },
   "outputs": [],
   "source": [
    "# جراحة العظام\n",
    "histogram(train_data[train_data['label']=='جراحة العظام']['length_of_sentinse'],train_data[train_data['label']=='جراحة العظام']['number_of_unique_words'])"
   ]
  },
  {
   "cell_type": "code",
   "execution_count": null,
   "id": "84a6d01ad78172f",
   "metadata": {
    "ExecuteTime": {
     "end_time": "2023-11-28T17:53:26.289134Z",
     "start_time": "2023-11-28T17:53:26.063132100Z"
    }
   },
   "outputs": [],
   "source": [
    "# جراحة عامة\n",
    "histogram(train_data[train_data['label']=='جراحة عامة']['length_of_sentinse'],train_data[train_data['label']=='جراحة عامة']['number_of_unique_words'])"
   ]
  },
  {
   "cell_type": "code",
   "execution_count": null,
   "id": "a6c4311d2ebf74ab",
   "metadata": {
    "ExecuteTime": {
     "end_time": "2023-11-28T17:53:26.517446500Z",
     "start_time": "2023-11-28T17:53:26.291149400Z"
    }
   },
   "outputs": [],
   "source": [
    "# مرض السكري\n",
    "histogram(train_data[train_data['label']=='مرض السكري']['length_of_sentinse'],train_data[train_data['label']=='مرض السكري']['number_of_unique_words'])"
   ]
  },
  {
   "cell_type": "code",
   "execution_count": null,
   "id": "d1835943bcbf4693",
   "metadata": {
    "ExecuteTime": {
     "end_time": "2023-11-28T17:53:26.519451500Z",
     "start_time": "2023-11-28T17:53:26.515428200Z"
    }
   },
   "outputs": [],
   "source": []
  },
  {
   "cell_type": "markdown",
   "id": "eaf1b8732c7316e1",
   "metadata": {
    "id": "oFmJ2HWqRNZa"
   },
   "source": [
    "# Question [3]: Text Cleaning and Normalization"
   ]
  },
  {
   "cell_type": "markdown",
   "id": "68fbb0f8741051d0",
   "metadata": {
    "id": "cwaCNfS9RNZc"
   },
   "source": [
    "## [3.1] \n"
   ]
  },
  {
   "cell_type": "code",
   "execution_count": null,
   "id": "274c297e31ec5bf",
   "metadata": {
    "id": "LhllhojDRNZd",
    "is_executing": true
   },
   "outputs": [],
   "source": [
    "# train_data\n",
    "# clean_tweet = re.sub(r'^RT(\\s)+|https?\\S+|#|@\\S+', '', tweet) ## من أجل أزالت \n",
    "#r'http[s]?://(?:[a-zA-Z]|[0-9]|[$-_@.&+]|[!*\\\\(\\\\),]|(?:%[0-9a-fA-F][0-9a-fA-F]))+'\n",
    "def remove_links(text):\n",
    "    clean_text = re.sub(r'http[s]?://(?:[a-zA-Z]|[0-9]|[$-_@.&+]|[!*\\\\(\\\\),]|(?:%[0-9a-fA-F][0-9a-fA-F]))+', '', text)\n",
    "    return clean_text\n"
   ]
  },
  {
   "cell_type": "code",
   "execution_count": null,
   "metadata": {},
   "outputs": [],
   "source": [
    "# remove_links('https://chat.openai.com/c/dc21a08a-5be6-42e3-a6e4-0c1d26791a46 hi')"
   ]
  },
  {
   "cell_type": "markdown",
   "id": "c720cae3191f34c8",
   "metadata": {
    "id": "MbJeF_CxRNZd"
   },
   "source": [
    "## [3.2] "
   ]
  },
  {
   "cell_type": "code",
   "execution_count": null,
   "id": "9c5c3d7287965469",
   "metadata": {
    "id": "M_bO-W2DRNZe"
   },
   "outputs": [],
   "source": [
    "def remove_doctors_prefix(text):\n",
    "    # pattern = r'\\bد\\.\\s*([\\u0600-\\u06FF]+)\\b' # لحتى يشيل ال د قبل الاسم...بالنسبة للأصفار والأرقام هي للغة العربية\n",
    "    # pattern = r'\\bالدكتور\\b'\n",
    "    pattern = r'\\bالدكتور(?:ة)?\\b'\n",
    "    result = re.sub(pattern, 'د.', text)\n",
    "    return result"
   ]
  },
  {
   "cell_type": "code",
   "execution_count": null,
   "metadata": {},
   "outputs": [],
   "source": [
    "texts = train_data[train_data['label']=='أمراض الدم']['answer'].values\n",
    "for text in texts:\n",
    "    # print(text)\n",
    "    print(remove_doctors_prefix(text))\n",
    "    print(\"=================================================================\")"
   ]
  },
  {
   "cell_type": "markdown",
   "id": "774c28db38969b02",
   "metadata": {
    "id": "GY-HhD2YRNZe"
   },
   "source": [
    "## [3.3] "
   ]
  },
  {
   "cell_type": "code",
   "execution_count": null,
   "id": "11b9f861c5d67e1b",
   "metadata": {
    "id": "l-5TSuHWRNZe"
   },
   "outputs": [],
   "source": [
    "# def remove_sentences_after_doctor(text):\n",
    "#     pattern = r'الدكتور\\s*[\\u0600-\\u06FF]+\\s*(.*?)(?:[\\r\\n]{2,}|$)'\n",
    "#     result = re.sub(pattern, '', text)\n",
    "#     return result\n",
    "\n",
    "# text = \"كيف الحال\\ مرحبًا، الدكتور أحمد.\\nكيف حالكم؟\\nهذه جملة اختبارية.\"\n",
    "# print(remove_sentences_after_doctor(text))\n",
    "\n",
    "\n",
    "\n",
    "# not done yet"
   ]
  },
  {
   "cell_type": "markdown",
   "id": "ad580f71f7101173",
   "metadata": {
    "id": "KV9D86kbRNZe"
   },
   "source": [
    "## [3.4] "
   ]
  },
  {
   "cell_type": "code",
   "execution_count": null,
   "id": "ffdb6de003d15333",
   "metadata": {},
   "outputs": [],
   "source": [
    "def remove_duplicate_letters_except_alif(text):\n",
    "    pattern = re.compile(r'(?:(?<!ا)ا(?!ا)|(.)(?:\\1)+)', re.UNICODE) # بشلي كلشي أحرف مكررة وخاصة الألف مابكررها اكتر من مرة\n",
    "    result = pattern.sub(lambda x: x.group(1) if x.group(1) else 'ا', text)\n",
    "    return result\n",
    "\n",
    "for text in texts:\n",
    "    print(remove_duplicate_letters_except_alif(text))"
   ]
  },
  {
   "cell_type": "markdown",
   "id": "978ddb92b76b7f1f",
   "metadata": {},
   "source": [
    "## [3.5]"
   ]
  },
  {
   "cell_type": "markdown",
   "id": "f1041d0eeb848aab",
   "metadata": {
    "id": "3fM_FPldSCxp"
   },
   "source": [
    "### [3.5.1] "
   ]
  },
  {
   "cell_type": "code",
   "execution_count": null,
   "metadata": {},
   "outputs": [],
   "source": [
    "# هاد بيقلب لل 1و2و3و4و....\n",
    "def convert_numbers_to_arabic_v2(text):\n",
    "    digit_mapping = {'٠': '0', '١': '1', '٢': '2', '٣': '3', '٤': '4', '٥': '5', '٦': '6', '٧': '7', '٨': '8', '٩': '9'}\n",
    "    english_text = re.sub(r'[٠-٩]', lambda x: digit_mapping[x.group()], text)\n",
    "\n",
    "    return english_text\n",
    "\n",
    "\n",
    "for text in texts:\n",
    "    print(convert_numbers_to_arabic_v2(text))"
   ]
  },
  {
   "cell_type": "code",
   "execution_count": null,
   "id": "59d7bd3624496465",
   "metadata": {
    "id": "ohGu5R14RNZe"
   },
   "outputs": [],
   "source": [
    "# هاد بيلقلب لل ١,٢,٣,٤\n",
    "def convert_numbers_to_arabic(text):\n",
    "    digit_mapping = {'0': '٠', '1': '١', '2': '٢', '3': '٣', '4': '٤', '5': '٥', '6': '٦', '7': '٧', '8': '٨', '9': '٩'}\n",
    "    arabic_text = re.sub(r'[0-9]', lambda x: digit_mapping[x.group()], text)\n",
    "\n",
    "    return arabic_text\n",
    "\n",
    "\n",
    "for text in texts:\n",
    "    print(convert_numbers_to_arabic(text))"
   ]
  },
  {
   "cell_type": "markdown",
   "id": "9efb2c08d7a0eae5",
   "metadata": {
    "id": "N2z1KmQXSAFs"
   },
   "source": [
    "### [3.5.2] "
   ]
  },
  {
   "cell_type": "code",
   "execution_count": null,
   "id": "584a485a3ab32cff",
   "metadata": {
    "id": "fmOXIMWoSAFt"
   },
   "outputs": [],
   "source": [
    "def standardize_numbers(text, replacement_symbol='T'):\n",
    "    digit_pattern = r'[0-9٠-٩]+'\n",
    "    standardized_text = re.sub(digit_pattern, lambda x: replacement_symbol, text)\n",
    "\n",
    "    return standardized_text\n",
    "\n",
    "\n",
    "for text in texts:\n",
    "    print(standardize_numbers(text))"
   ]
  },
  {
   "cell_type": "markdown",
   "id": "8a45d054195bd5cc",
   "metadata": {
    "id": "fCBHc2y6SAL5"
   },
   "source": [
    "### [3.5.3] "
   ]
  },
  {
   "cell_type": "code",
   "execution_count": null,
   "id": "db36eb4fffdef9e7",
   "metadata": {
    "id": "QJX_PtSzSAL6"
   },
   "outputs": [],
   "source": [
    "import re\n",
    "\n",
    "def remove_numbers(text):\n",
    "    digit_pattern = r'\\d+'\n",
    "    \n",
    "    text_without_numbers = re.sub(digit_pattern, '', text)\n",
    "\n",
    "    return text_without_numbers\n",
    "\n",
    "for text in texts:\n",
    "    print(remove_numbers(text))"
   ]
  },
  {
   "cell_type": "markdown",
   "id": "124e337a2e9808a9",
   "metadata": {},
   "source": [
    "### [3.5.4]"
   ]
  },
  {
   "cell_type": "code",
   "execution_count": null,
   "id": "4d298a9526a3ae7d",
   "metadata": {},
   "outputs": [],
   "source": [
    "texts = train_data[train_data['label']=='أمراض الجهاز التنفسي']['answer'].values\n",
    "\n",
    "def remove_dates_and_times(text):\n",
    "    date_time_patterns = [\n",
    "        r'\\d{4}-\\d{2}-\\d{2}\\s+\\d{1,2}:\\d{2}:\\d{2}'  # Match dates and times like 2015-01-04 20:08:51\n",
    "        # r'\\d{1,2}/\\d{1,2}/\\d{2,4}',         # Match dates like 12/31/2022\n",
    "        # r'\\d{1,2}-\\d{1,2}-\\d{2,4}',         # Match dates like 12-31-2022\n",
    "        # r'\\d{1,2}:\\d{2}:\\d{2}'               # Match times like 12:34:56\n",
    "        # r'\\d{1,2}\\s+(?:Jan|Feb|Mar|Apr|May|Jun|Jul|Aug|Sep|Oct|Nov|Dec)\\s*\\d{2,4}',  # Match dates like 31 Dec 2022\n",
    "        # r'\\d{1,2}:\\d{2}\\s*(?:AM|PM|am|pm)?',  # Match times like 12:34 AM\n",
    "    ]\n",
    "\n",
    "    for pattern in date_time_patterns:\n",
    "        text = re.sub(pattern, '', text)\n",
    "\n",
    "    return text\n",
    "\n",
    "for text in texts:\n",
    "    print(remove_dates_and_times(text))"
   ]
  },
  {
   "cell_type": "markdown",
   "id": "9c897aae5bc65e80",
   "metadata": {
    "id": "P1aLjPbzRNZe"
   },
   "source": [
    "## [3.6] "
   ]
  },
  {
   "cell_type": "markdown",
   "id": "9c7db1ab76a0c0f8",
   "metadata": {
    "id": "dbqN7BceSRhS"
   },
   "source": [
    "### [3.6.1] "
   ]
  },
  {
   "cell_type": "code",
   "execution_count": null,
   "metadata": {},
   "outputs": [],
   "source": [
    "import string\n",
    "string.punctuation"
   ]
  },
  {
   "cell_type": "code",
   "execution_count": null,
   "id": "8e6d37a9e0c0365",
   "metadata": {
    "id": "caLTQ8EtSRhT"
   },
   "outputs": [],
   "source": [
    "def remove_punctuation(text):\n",
    "    text=re.sub(r'[!\\\"#$%&\\'()*+,\\-./:;<=>?@\\[\\\\\\]^_`{|}~،؛؟ـ]',' ',text)\n",
    "    return text"
   ]
  },
  {
   "cell_type": "code",
   "execution_count": null,
   "metadata": {},
   "outputs": [],
   "source": [
    "text = \"مرحباً، هذا نص تجريبي! هل يعمل؟\"\n",
    "clean_text = remove_punctuation(text)\n",
    "print(clean_text)\n",
    "for text in texts:\n",
    "    print(remove_punctuation(text))"
   ]
  },
  {
   "cell_type": "markdown",
   "id": "8aa2beec5d82e166",
   "metadata": {
    "id": "rad8wPeSSRhU"
   },
   "source": [
    "### [3.6.2] "
   ]
  },
  {
   "cell_type": "code",
   "execution_count": null,
   "id": "426725eac6677209",
   "metadata": {
    "id": "UZuYtSHaSRhU"
   },
   "outputs": [],
   "source": [
    "def keep_arabic_punctuations_numbers(text):\n",
    "    text= re.sub(r'[^\\u0600-\\u06FF0-9،؛؟ـ!\\\"#$%&\\'()*+,\\-./:;<=>?@\\[\\\\\\]^_`{|}~]', ' ', text)\n",
    "    return text"
   ]
  },
  {
   "cell_type": "code",
   "execution_count": null,
   "metadata": {},
   "outputs": [],
   "source": [
    "text = \"مرحباً، هذا نص تجريبي بالعربية! هل يعمل؟ English words 1234\"\n",
    "clean_text = keep_arabic_punctuations_numbers(text)\n",
    "print(clean_text)\n",
    "for text in texts:\n",
    "    print(keep_arabic_punctuations_numbers(text))"
   ]
  },
  {
   "cell_type": "markdown",
   "id": "f48de648b46f28a6",
   "metadata": {
    "id": "N4WDktTgRNZf"
   },
   "source": [
    "## [3.7] "
   ]
  },
  {
   "cell_type": "code",
   "execution_count": null,
   "id": "94667dc98883d735",
   "metadata": {
    "id": "B6icsYsFRNZf"
   },
   "outputs": [],
   "source": []
  },
  {
   "cell_type": "markdown",
   "id": "46805849c2d2623b",
   "metadata": {
    "id": "wbGPWNtoR4p-"
   },
   "source": [
    "## [3.8] "
   ]
  },
  {
   "cell_type": "code",
   "execution_count": null,
   "id": "6cf48a4d57cf455d",
   "metadata": {
    "id": "fAiyofe3R4qA"
   },
   "outputs": [],
   "source": [
    "ar_stemmer=stemmer(\"arabic\")\n",
    "ar_stemmer.stemWord(u\"فسميتموها\")"
   ]
  },
  {
   "cell_type": "code",
   "execution_count": null,
   "metadata": {},
   "outputs": [],
   "source": [
    "def stem_arabic_words_farasa(text):\n",
    "    stemmer = FarasaStemmer()\n",
    "    text=stemmer.stem(text)\n",
    "    return text\n",
    "\n",
    "text = \"الكتب في المكتبة متنوعة ومفيدة\"\n",
    "stemmed_text = stem_arabic_words_farasa(text)\n",
    "print(stemmed_text)"
   ]
  },
  {
   "cell_type": "code",
   "execution_count": null,
   "metadata": {},
   "outputs": [],
   "source": [
    "def stem_arabic_words_tashaphyne(text):\n",
    "    stemmer = ArabicLightStemmer()\n",
    "    words = text.split()\n",
    "    stemmed_words = [stemmer.light_stem(word) for word in words]\n",
    "    return ' '.join(stemmed_words)\n",
    "\n",
    "text = \"الكتب في المكتبة متنوعة ومفيدة\"\n",
    "stemmed_text = stem_arabic_words_tashaphyne(text)\n",
    "print(stemmed_text)"
   ]
  },
  {
   "cell_type": "code",
   "execution_count": null,
   "metadata": {},
   "outputs": [],
   "source": [
    "def stem_arabic_words_snowballstemmer(text):\n",
    "    ar_stemmer = stemmer(\"arabic\")\n",
    "    words = text.split()\n",
    "    stemmed_words = [ar_stemmer.stemWord(word) for word in words]\n",
    "    return ' '.join(stemmed_words)\n",
    "\n",
    "text = \"الكتب في المكتبة متنوعة ومفيدة\"\n",
    "stemmed_text = stem_arabic_words_snowballstemmer(text)\n",
    "print(stemmed_text)"
   ]
  },
  {
   "cell_type": "code",
   "execution_count": null,
   "metadata": {},
   "outputs": [],
   "source": [
    "# for text in texts:\n",
    "#     print(stem_arabic_words_snowballstemmer(text))"
   ]
  },
  {
   "cell_type": "code",
   "execution_count": null,
   "metadata": {},
   "outputs": [],
   "source": [
    "# for text in texts:\n",
    "#     print(stem_arabic_words_tashaphyne(text))"
   ]
  },
  {
   "cell_type": "code",
   "execution_count": null,
   "metadata": {},
   "outputs": [],
   "source": [
    "# for text in texts:\n",
    "#     print(stem_arabic_words_farasa(text))"
   ]
  },
  {
   "cell_type": "markdown",
   "id": "80016c32a6453254",
   "metadata": {
    "id": "V-rCzzoMR41T"
   },
   "source": [
    "## [3.9] "
   ]
  },
  {
   "cell_type": "markdown",
   "id": "43f9be9fd522e36a",
   "metadata": {
    "id": "iXF2L4Z-Sd3N"
   },
   "source": [
    "### [3.9.1] "
   ]
  },
  {
   "cell_type": "code",
   "execution_count": null,
   "id": "d09fdfc13c8e9d32",
   "metadata": {
    "id": "wk-Z3Gw4Sd3O"
   },
   "outputs": [],
   "source": [
    "def unify_hamzat(text):\n",
    "    unified_text = re.sub(r'[ءؤئ]', 'ء', text)\n",
    "    return unified_text"
   ]
  },
  {
   "cell_type": "code",
   "execution_count": null,
   "metadata": {},
   "outputs": [],
   "source": [
    "text = \"أحمد قرأ القرآن بتأنٍ وإتقان\"\n",
    "unified_text = unify_hamzat(text)\n",
    "print(unified_text)"
   ]
  },
  {
   "cell_type": "markdown",
   "id": "952d14ba938901a4",
   "metadata": {
    "id": "ij5gdJA4Sd3O"
   },
   "source": [
    "### [3.9.2] "
   ]
  },
  {
   "cell_type": "code",
   "execution_count": null,
   "id": "64925506e5dfc1d4",
   "metadata": {
    "id": "bDLOsd4tSd3O"
   },
   "outputs": [],
   "source": [
    "def unify_Alfat(text):\n",
    "    unified_text = re.sub(r'[أإآ]', 'أ', text)\n",
    "    return unified_text"
   ]
  },
  {
   "cell_type": "code",
   "execution_count": null,
   "metadata": {},
   "outputs": [],
   "source": [
    "text = \"أحمد قرأ القرآن بتأنٍ وإتقان\"\n",
    "unified_text = unify_Alfat(text)\n",
    "print(unified_text)"
   ]
  },
  {
   "cell_type": "markdown",
   "id": "e6914083b35745e6",
   "metadata": {
    "id": "H6k8JnJDSd3P"
   },
   "source": [
    "### [3.9.3] "
   ]
  },
  {
   "cell_type": "code",
   "execution_count": null,
   "id": "ac11de1bf61d2af7",
   "metadata": {
    "id": "JhSOCYLmSd3P"
   },
   "outputs": [],
   "source": [
    "def remove_tatweel(text):\n",
    "    text =re.sub( r'ـ', '', text)\n",
    "    return text"
   ]
  },
  {
   "cell_type": "code",
   "execution_count": null,
   "metadata": {},
   "outputs": [],
   "source": [
    "text = \"اللغة العربيــــــة جميلة\"\n",
    "clean_text = remove_tatweel(text)\n",
    "print(clean_text)"
   ]
  },
  {
   "cell_type": "markdown",
   "id": "e9eeb1a5672b59b",
   "metadata": {
    "id": "1TmDb343Sls9"
   },
   "source": [
    "### [3.9.4] "
   ]
  },
  {
   "cell_type": "code",
   "execution_count": null,
   "id": "5c81a4e0fcae8662",
   "metadata": {
    "id": "wWJ-Z11_Sls-"
   },
   "outputs": [],
   "source": [
    "def remove_arabic_diacritics(text):\n",
    "    text=re.sub(r'[\\u064B-\\u065F]', '', text)\n",
    "    return text\n"
   ]
  },
  {
   "cell_type": "code",
   "execution_count": null,
   "metadata": {},
   "outputs": [],
   "source": [
    "for text in texts:\n",
    "    print(remove_arabic_diacritics(text))"
   ]
  },
  {
   "cell_type": "markdown",
   "id": "1b18e9774ff7851a",
   "metadata": {
    "id": "0V5LD9EWVgY7"
   },
   "source": [
    "## [3.10] "
   ]
  },
  {
   "cell_type": "code",
   "execution_count": null,
   "id": "f2e4214581691a7b",
   "metadata": {
    "id": "AkVzG3AWVgZA"
   },
   "outputs": [],
   "source": [
    "def remove_space(text):\n",
    "    text = re.sub(r\"\\s+\", \" \", text).strip()\n",
    "    return text"
   ]
  },
  {
   "cell_type": "code",
   "execution_count": null,
   "metadata": {},
   "outputs": [],
   "source": [
    "# text=\" sdasd  dasads  das dsa  ads \"\n",
    "# remove_space(text)"
   ]
  },
  {
   "cell_type": "markdown",
   "id": "c8d8811ac8263334",
   "metadata": {
    "id": "exdhuH6GtLez"
   },
   "source": [
    "## Extra [3.11]"
   ]
  },
  {
   "cell_type": "code",
   "execution_count": null,
   "id": "3c02431e73710b9c",
   "metadata": {
    "id": "_UOzIn6-tKlJ"
   },
   "outputs": [],
   "source": []
  },
  {
   "cell_type": "markdown",
   "id": "22792fd6fb27623",
   "metadata": {
    "id": "Jp-C0ZwrS8AY"
   },
   "source": [
    "# Question [4]: Prepare Training Data"
   ]
  },
  {
   "cell_type": "markdown",
   "id": "10dd4630ce82793b",
   "metadata": {
    "id": "pwtVy8DES8AZ"
   },
   "source": [
    "## [4.1] \n"
   ]
  },
  {
   "cell_type": "code",
   "execution_count": null,
   "id": "548f25e826fab2dc",
   "metadata": {},
   "outputs": [],
   "source": [
    "def preparing_training_data(text):\n",
    "    text_after_cleaning_links = remove_links(text)\n",
    "    text_after_removing_doctors_prefix = remove_doctors_prefix(text_after_cleaning_links)\n",
    "    # text after removing doctors specialization\n",
    "    text_after_removing_doublication_chars = remove_duplicate_letters_except_alif(text_after_removing_doctors_prefix)\n",
    "    text_after_removing_date_and_time = remove_dates_and_times(text_after_removing_doublication_chars)\n",
    "    text_after_removing_numbers = remove_numbers(text_after_removing_date_and_time)\n",
    "    text_after_removing_non_arabic_words = keep_arabic_punctuations_numbers(text_after_removing_numbers)\n",
    "    # text after removing stop words\n",
    "    text_after_unify_hamzat = unify_hamzat(text_after_removing_non_arabic_words)\n",
    "    text_after_unify_alafat = unify_Alfat(text_after_unify_hamzat)\n",
    "    text_after_removing_tatwel = remove_tatweel(text_after_unify_alafat)\n",
    "    text_after_removing_tashkel = remove_arabic_diacritics(text_after_removing_tatwel)\n",
    "    text_after_removing_spaces_and_keeping_one_space = remove_space(text_after_removing_tashkel)\n",
    "    # text after removing wrong arabic words and correct them\n",
    "\n",
    "\n",
    "    return text_after_removing_spaces_and_keeping_one_space\n",
    "    \n",
    "    \n",
    "    \n",
    "questions = train_data['question'].values\n",
    "answers = train_data['answer'].values\n",
    "\n",
    "questions_answers = questions[0:5] + answers[0:5]\n",
    "\n",
    "questions_answers.tolist()\n",
    "for i in questions_answers:\n",
    "    print(preparing_training_data(i))\n",
    "    \n",
    "    "
   ]
  },
  {
   "cell_type": "markdown",
   "id": "77be5ba87989eb2b",
   "metadata": {
    "id": "npObP2JLUBgw"
   },
   "source": [
    "## [4.2] "
   ]
  },
  {
   "cell_type": "code",
   "execution_count": null,
   "id": "b945acaab7ef7888",
   "metadata": {
    "id": "V_KxmQdgUBg5"
   },
   "outputs": [],
   "source": [
    "all_train_data = questions + answers\n",
    "all_train_data_After_cleaning = []\n",
    "all_tokens = []\n",
    "for line in all_train_data:\n",
    "    training_data_after_cleaning = preparing_training_data(line)\n",
    "    all_train_data_After_cleaning.append(training_data_after_cleaning)\n",
    "    # print(training_data_after_cleaning)\n",
    "\n",
    "\n",
    "\n",
    "# all_train_data_After_cleaning\n",
    "# # print(tokens)\n",
    "for phrase in all_train_data_After_cleaning:\n",
    "    tokens = nltk.word_tokenize(phrase)\n",
    "    all_tokens.append(tokens)   \n",
    "\n",
    "\n",
    "flattened_all_tokens = [item for sublist in all_tokens for item in sublist]\n",
    "print(len(flattened_all_tokens)) "
   ]
  },
  {
   "cell_type": "code",
   "execution_count": null,
   "metadata": {},
   "outputs": [],
   "source": [
    "# حساب عدد الكلمات الفريدة :\n",
    "total_unique_words=len(set(flattened_all_tokens))\n",
    "print(\"عدد الكلمات الفريدة:\", total_unique_words)"
   ]
  },
  {
   "cell_type": "code",
   "execution_count": null,
   "metadata": {},
   "outputs": [],
   "source": [
    "# نلاحظ ان عدد الكلمات الكلية قد قلت هنا أما عدد الكلمات المميزة قد زاد"
   ]
  },
  {
   "cell_type": "markdown",
   "id": "f9545f003ed979ad",
   "metadata": {
    "id": "pTIrTECWUBg5"
   },
   "source": [
    "## [4.3] "
   ]
  },
  {
   "cell_type": "code",
   "execution_count": null,
   "id": "e8358e6f447495af",
   "metadata": {
    "id": "OqmCKe5lUBg6"
   },
   "outputs": [],
   "source": []
  },
  {
   "cell_type": "markdown",
   "id": "27f55891fea3a6e0",
   "metadata": {
    "id": "6v0njm5qUBg6"
   },
   "source": [
    "## [4.4] "
   ]
  },
  {
   "cell_type": "code",
   "execution_count": null,
   "id": "4bf6fd128d14e598",
   "metadata": {
    "id": "DltX5hcnUHT1"
   },
   "outputs": [],
   "source": []
  },
  {
   "cell_type": "markdown",
   "id": "43333415d395ec67",
   "metadata": {},
   "source": [
    "# Question [5]: Baseline"
   ]
  },
  {
   "cell_type": "markdown",
   "id": "d3f3f370c22073bd",
   "metadata": {},
   "source": [
    "The Comparison Dictionary example"
   ]
  },
  {
   "cell_type": "code",
   "execution_count": null,
   "id": "779a44f1fdc3be2",
   "metadata": {},
   "outputs": [],
   "source": [
    "comparison_table = {}\n",
    "\n",
    "comparison_table['question_step_number'] = []\n",
    "comparison_table['model_name'] = []\n",
    "comparison_table['features'] = []\n",
    "comparison_table['model_parameters'] = []\n",
    "comparison_table['preprocessing_methods'] = []\n",
    "comparison_table['accuracy'] = []\n",
    "comparison_table['balance_accuracy'] = []"
   ]
  },
  {
   "cell_type": "markdown",
   "id": "100516edd49d694f",
   "metadata": {},
   "source": [
    "Filling the dictionary example"
   ]
  },
  {
   "cell_type": "code",
   "execution_count": null,
   "id": "7af1fa16c41d67ce",
   "metadata": {},
   "outputs": [],
   "source": [
    "comparison_table['question_step_number'].append(\"3.5\")\n",
    "comparison_table['model_name'].append('logistic_regression')\n",
    "comparison_table['features'].append('bag of words')\n",
    "comparison_table['model_parameters'].append('default')\n",
    "comparison_table['preprocessing_methods'].append(\"remove links\")\n",
    "comparison_table['accuracy'].append(accuracy)\n",
    "comparison_table['balance_accuracy'].append(balance_accuracy_value)"
   ]
  },
  {
   "cell_type": "markdown",
   "id": "8ea60039714ed596",
   "metadata": {},
   "source": [
    "## [5.1]"
   ]
  },
  {
   "cell_type": "code",
   "execution_count": null,
   "id": "32f1bc127a2a5794",
   "metadata": {},
   "outputs": [],
   "source": []
  },
  {
   "cell_type": "markdown",
   "id": "237204d8bc60265f",
   "metadata": {},
   "source": [
    "## [5.2]"
   ]
  },
  {
   "cell_type": "code",
   "execution_count": null,
   "id": "565d69be3d7b689c",
   "metadata": {},
   "outputs": [],
   "source": []
  },
  {
   "cell_type": "markdown",
   "id": "c8b0b98768fcd170",
   "metadata": {},
   "source": [
    "## [5.3]"
   ]
  },
  {
   "cell_type": "code",
   "execution_count": null,
   "id": "26a46fbbad90de4",
   "metadata": {},
   "outputs": [],
   "source": []
  },
  {
   "cell_type": "markdown",
   "id": "91088d7e7ab7f906",
   "metadata": {},
   "source": [
    "## [5.4]"
   ]
  },
  {
   "cell_type": "code",
   "execution_count": null,
   "id": "9aae6614075309ae",
   "metadata": {},
   "outputs": [],
   "source": []
  },
  {
   "cell_type": "markdown",
   "id": "8de567c997ade2a8",
   "metadata": {},
   "source": [
    "## [5.5]"
   ]
  },
  {
   "cell_type": "code",
   "execution_count": null,
   "id": "964993c49f7a92a1",
   "metadata": {},
   "outputs": [],
   "source": []
  },
  {
   "cell_type": "markdown",
   "id": "ea32f682a2894679",
   "metadata": {},
   "source": [
    "## [5.6]"
   ]
  },
  {
   "cell_type": "code",
   "execution_count": null,
   "id": "27abe69834b04663",
   "metadata": {},
   "outputs": [],
   "source": []
  },
  {
   "cell_type": "markdown",
   "id": "aff6ddfc1ceb5594",
   "metadata": {},
   "source": [
    "# Question [6]: Semantic Representation"
   ]
  },
  {
   "cell_type": "markdown",
   "id": "a880357d5d916109",
   "metadata": {},
   "source": [
    "## [6.1]"
   ]
  },
  {
   "cell_type": "code",
   "execution_count": null,
   "id": "931b87ba185753e6",
   "metadata": {},
   "outputs": [],
   "source": []
  },
  {
   "cell_type": "markdown",
   "id": "da09109b1d0dea66",
   "metadata": {},
   "source": [
    "## [6.2]"
   ]
  },
  {
   "cell_type": "code",
   "execution_count": null,
   "id": "40ccfb829f657e4b",
   "metadata": {},
   "outputs": [],
   "source": []
  },
  {
   "cell_type": "markdown",
   "id": "62e9c6831c1fcf5b",
   "metadata": {},
   "source": [
    "## [6.3]"
   ]
  },
  {
   "cell_type": "code",
   "execution_count": null,
   "id": "80e0a31cf8caa789",
   "metadata": {},
   "outputs": [],
   "source": []
  },
  {
   "cell_type": "markdown",
   "id": "ff51d40919fe48e8",
   "metadata": {},
   "source": [
    "## [6.4]"
   ]
  },
  {
   "cell_type": "code",
   "execution_count": null,
   "id": "3c7eb6c99e2df59d",
   "metadata": {},
   "outputs": [],
   "source": []
  },
  {
   "cell_type": "markdown",
   "id": "c5f600c066a9f996",
   "metadata": {},
   "source": [
    "## [6.5]"
   ]
  },
  {
   "cell_type": "code",
   "execution_count": null,
   "id": "c815304128188bdc",
   "metadata": {},
   "outputs": [],
   "source": []
  },
  {
   "cell_type": "markdown",
   "id": "198b722c1bbcdcf5",
   "metadata": {},
   "source": [
    "# Question [7]: Deep Neural Network"
   ]
  },
  {
   "cell_type": "markdown",
   "id": "2aff5925a2f8f2a0",
   "metadata": {},
   "source": [
    "## [7.1]"
   ]
  },
  {
   "cell_type": "markdown",
   "id": "97f755371c085f16",
   "metadata": {},
   "source": [
    "### [7.1.1]"
   ]
  },
  {
   "cell_type": "code",
   "execution_count": null,
   "id": "6daf2e41c9731bb8",
   "metadata": {},
   "outputs": [],
   "source": []
  },
  {
   "cell_type": "markdown",
   "id": "e30d9a52819bcc24",
   "metadata": {},
   "source": [
    "### [7.1.2]"
   ]
  },
  {
   "cell_type": "code",
   "execution_count": null,
   "id": "8be530a9b8e25845",
   "metadata": {},
   "outputs": [],
   "source": []
  },
  {
   "cell_type": "markdown",
   "id": "248bd4a3e1cb55a6",
   "metadata": {},
   "source": [
    "## [7.2]"
   ]
  },
  {
   "cell_type": "markdown",
   "id": "26576136e27fd19c",
   "metadata": {},
   "source": [
    "### [7.2.1]"
   ]
  },
  {
   "cell_type": "code",
   "execution_count": null,
   "id": "bf9b0d5ff2781c1b",
   "metadata": {},
   "outputs": [],
   "source": []
  },
  {
   "cell_type": "markdown",
   "id": "1659f00477d637aa",
   "metadata": {},
   "source": [
    "### [7.2.2]"
   ]
  },
  {
   "cell_type": "code",
   "execution_count": null,
   "id": "84450bd910df78ff",
   "metadata": {},
   "outputs": [],
   "source": []
  },
  {
   "cell_type": "markdown",
   "id": "d846ec6bd7b7b91f",
   "metadata": {},
   "source": [
    "### [7.2.3]"
   ]
  },
  {
   "cell_type": "code",
   "execution_count": null,
   "id": "67f8cddd3a0aabc7",
   "metadata": {},
   "outputs": [],
   "source": []
  },
  {
   "cell_type": "markdown",
   "id": "a5f15d18ac74bcc2",
   "metadata": {},
   "source": [
    "### [7.2.4]"
   ]
  },
  {
   "cell_type": "code",
   "execution_count": null,
   "id": "1fdcd49751c5a953",
   "metadata": {},
   "outputs": [],
   "source": []
  },
  {
   "cell_type": "markdown",
   "id": "9d3f4520e4493202",
   "metadata": {},
   "source": [
    "## [7.3]"
   ]
  },
  {
   "cell_type": "code",
   "execution_count": null,
   "id": "b878b51740738504",
   "metadata": {},
   "outputs": [],
   "source": []
  },
  {
   "cell_type": "markdown",
   "id": "52a6d74027ab71b",
   "metadata": {},
   "source": [
    "## Extra [7.4]"
   ]
  },
  {
   "cell_type": "code",
   "execution_count": null,
   "id": "32b1af7e548effea",
   "metadata": {},
   "outputs": [],
   "source": []
  },
  {
   "cell_type": "markdown",
   "id": "d4c5fcdd614e46d",
   "metadata": {},
   "source": [
    "# Final Results"
   ]
  },
  {
   "cell_type": "code",
   "execution_count": null,
   "id": "42a27f608e5a696b",
   "metadata": {},
   "outputs": [],
   "source": [
    "df = pd.DataFrame(comparison_table)\n",
    "df"
   ]
  },
  {
   "cell_type": "code",
   "execution_count": null,
   "id": "b30ba7f2c380c036",
   "metadata": {},
   "outputs": [],
   "source": [
    "df.to_csv(\"[your_name].csv\", index=False)"
   ]
  }
 ],
 "metadata": {
  "colab": {
   "collapsed_sections": [
    "KFerFDFqPwPI",
    "-4LEgCtvPwaQ",
    "ZgzDVRqCQ72Q",
    "qQlGbCI3Q77R",
    "hIwnQVuas5hE",
    "7orTRN5vs9vp",
    "cwaCNfS9RNZc",
    "MbJeF_CxRNZd",
    "GY-HhD2YRNZe",
    "KV9D86kbRNZe",
    "3fM_FPldSCxp",
    "N2z1KmQXSAFs",
    "fCBHc2y6SAL5",
    "P1aLjPbzRNZe",
    "dbqN7BceSRhS",
    "rad8wPeSSRhU",
    "FbIUIkezSRhU",
    "N4WDktTgRNZf",
    "wbGPWNtoR4p-",
    "V-rCzzoMR41T",
    "iXF2L4Z-Sd3N",
    "ij5gdJA4Sd3O",
    "H6k8JnJDSd3P",
    "1TmDb343Sls9",
    "0V5LD9EWVgY7",
    "vc96CuQStFA9",
    "exdhuH6GtLez",
    "pwtVy8DES8AZ",
    "npObP2JLUBgw",
    "pTIrTECWUBg5",
    "6v0njm5qUBg6"
   ],
   "provenance": []
  },
  "kernelspec": {
   "display_name": "Python 3",
   "language": "python",
   "name": "python3"
  },
  "language_info": {
   "codemirror_mode": {
    "name": "ipython",
    "version": 3
   },
   "file_extension": ".py",
   "mimetype": "text/x-python",
   "name": "python",
   "nbconvert_exporter": "python",
   "pygments_lexer": "ipython3",
   "version": "3.10.5"
  }
 },
 "nbformat": 4,
 "nbformat_minor": 5
}
